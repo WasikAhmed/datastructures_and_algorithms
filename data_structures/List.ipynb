{
 "cells": [
  {
   "cell_type": "markdown",
   "source": [
    "# List in Python"
   ],
   "metadata": {
    "collapsed": false
   },
   "id": "46d8bf2327654a4d"
  },
  {
   "cell_type": "markdown",
   "source": [
    "**List is a collection of items in a particular order.  Python lists are one of the most fundamental and versatile data structures in Python. They are used to store collections of items, allowing for easy manipulation and access to individual elements. Lists are created by placing a comma-separated sequence of items in square brackets `[]`. These items can be of any data type (integers, floats, strings, etc.) and can even be other lists.**"
   ],
   "metadata": {
    "collapsed": false
   },
   "id": "5d3b8d05fb6da7df"
  },
  {
   "cell_type": "markdown",
   "source": [
    "## List methods"
   ],
   "metadata": {
    "collapsed": false
   },
   "id": "3a05297cc2269bdc"
  },
  {
   "cell_type": "markdown",
   "source": [
    "- **append()**\tAdds an element at the end of the list\n",
    "- **clear()**\tRemoves all the elements from the list\n",
    "- **copy()**\tReturns a copy of the list\n",
    "- **count()**\tReturns the number of elements with the specified value\n",
    "- **extend()**\tAdd the elements of a list (or any iterable), to the end of the current list\n",
    "- **index()**\tReturns the index of the first element with the specified value\n",
    "- **insert()**\tAdds an element at the specified position\n",
    "- **pop()**\tRemoves the element at the specified position\n",
    "- **remove()**\tRemoves the first item with the specified value\n",
    "- **reverse()**\tReverses the order of the list\n",
    "- **sort()**\tSorts the list"
   ],
   "metadata": {
    "collapsed": false
   },
   "id": "aa805f08a50a4b79"
  },
  {
   "cell_type": "markdown",
   "source": [
    "## Creating a list"
   ],
   "metadata": {
    "collapsed": false
   },
   "id": "e98ef534b4aeb686"
  },
  {
   "cell_type": "code",
   "outputs": [
    {
     "name": "stdout",
     "output_type": "stream",
     "text": [
      "[1, 2, 3, 4, 5]\n",
      "['apple', 'banana', 'cherry']\n",
      "[1, 'apple', 2, 'banana', 3, 'cherry']\n"
     ]
    }
   ],
   "source": [
    "my_list = [1, 2, 3, 4, 5]\n",
    "print(my_list)\n",
    "my_list = ['apple', 'banana', 'cherry']\n",
    "print(my_list)\n",
    "my_list = [1, 'apple', 2, 'banana', 3, 'cherry']\n",
    "print(my_list)"
   ],
   "metadata": {
    "collapsed": false,
    "ExecuteTime": {
     "end_time": "2024-04-23T18:06:19.994913Z",
     "start_time": "2024-04-23T18:06:19.988799Z"
    }
   },
   "id": "48120b995420e8dc",
   "execution_count": 1
  },
  {
   "cell_type": "markdown",
   "source": [
    "## Accessing elements in a list"
   ],
   "metadata": {
    "collapsed": false
   },
   "id": "fc02d80bdcbbe86f"
  },
  {
   "cell_type": "code",
   "outputs": [
    {
     "name": "stdout",
     "output_type": "stream",
     "text": [
      "apple\n",
      "banana\n",
      "cherry\n"
     ]
    }
   ],
   "source": [
    "my_list = ['apple', 'banana', 'cherry']\n",
    "print(my_list[0])\n",
    "print(my_list[1])\n",
    "print(my_list[2])"
   ],
   "metadata": {
    "collapsed": false,
    "ExecuteTime": {
     "end_time": "2024-04-23T18:06:20.180277Z",
     "start_time": "2024-04-23T18:06:20.175489Z"
    }
   },
   "id": "5b1048c64a966d97",
   "execution_count": 2
  },
  {
   "cell_type": "markdown",
   "source": [
    "## Negative Indexing"
   ],
   "metadata": {
    "collapsed": false
   },
   "id": "a51a7a2535b60e2d"
  },
  {
   "cell_type": "code",
   "outputs": [
    {
     "name": "stdout",
     "output_type": "stream",
     "text": [
      "cherry\n",
      "banana\n",
      "apple\n"
     ]
    }
   ],
   "source": [
    "my_list = ['apple', 'banana', 'cherry']\n",
    "print(my_list[-1])\n",
    "print(my_list[-2])\n",
    "print(my_list[-3])"
   ],
   "metadata": {
    "collapsed": false,
    "ExecuteTime": {
     "end_time": "2024-04-23T18:06:20.191128Z",
     "start_time": "2024-04-23T18:06:20.187264Z"
    }
   },
   "id": "9c23aeb3310381f1",
   "execution_count": 3
  },
  {
   "cell_type": "markdown",
   "source": [
    "## Slicing"
   ],
   "metadata": {
    "collapsed": false
   },
   "id": "449c8c2931d71cef"
  },
  {
   "cell_type": "code",
   "outputs": [
    {
     "name": "stdout",
     "output_type": "stream",
     "text": [
      "['cherry', 'orange', 'kiwi']\n",
      "['apple', 'banana', 'cherry', 'orange']\n",
      "['cherry', 'orange', 'kiwi', 'melon', 'mango']\n",
      "['orange', 'kiwi', 'melon']\n"
     ]
    }
   ],
   "source": [
    "my_list = ['apple', 'banana', 'cherry', 'orange', 'kiwi', 'melon', 'mango']\n",
    "print(my_list[2:5])\n",
    "print(my_list[:4])\n",
    "print(my_list[2:])\n",
    "print(my_list[-4:-1])"
   ],
   "metadata": {
    "collapsed": false,
    "ExecuteTime": {
     "end_time": "2024-04-23T18:06:20.226251Z",
     "start_time": "2024-04-23T18:06:20.221433Z"
    }
   },
   "id": "d4f7dd9fb977a01a",
   "execution_count": 4
  },
  {
   "cell_type": "markdown",
   "source": [
    "## Changing elements in a list"
   ],
   "metadata": {
    "collapsed": false
   },
   "id": "4638f5ff20ab1892"
  },
  {
   "cell_type": "code",
   "outputs": [
    {
     "name": "stdout",
     "output_type": "stream",
     "text": [
      "['apple', 'blackcurrant', 'cherry']\n"
     ]
    }
   ],
   "source": [
    "my_list = ['apple', 'banana', 'cherry']\n",
    "my_list[1] = 'blackcurrant'\n",
    "print(my_list)"
   ],
   "metadata": {
    "collapsed": false,
    "ExecuteTime": {
     "end_time": "2024-04-23T18:06:20.298616Z",
     "start_time": "2024-04-23T18:06:20.294395Z"
    }
   },
   "id": "b676e49d24666c18",
   "execution_count": 5
  },
  {
   "cell_type": "markdown",
   "source": [
    "## Looping through a list"
   ],
   "metadata": {
    "collapsed": false
   },
   "id": "9d90098b21a94f2e"
  },
  {
   "cell_type": "code",
   "outputs": [
    {
     "name": "stdout",
     "output_type": "stream",
     "text": [
      "apple\n",
      "banana\n",
      "cherry\n"
     ]
    }
   ],
   "source": [
    "my_list = ['apple', 'banana', 'cherry']\n",
    "for x in my_list:\n",
    "    print(x)"
   ],
   "metadata": {
    "collapsed": false,
    "ExecuteTime": {
     "end_time": "2024-04-23T18:06:20.302944Z",
     "start_time": "2024-04-23T18:06:20.300237Z"
    }
   },
   "id": "1875cf6bacbac160",
   "execution_count": 6
  },
  {
   "cell_type": "markdown",
   "source": [
    "## Checking if an element exists"
   ],
   "metadata": {
    "collapsed": false
   },
   "id": "f1b8292811d1eaa7"
  },
  {
   "cell_type": "code",
   "outputs": [
    {
     "name": "stdout",
     "output_type": "stream",
     "text": [
      "Yes, apple is in the fruits list\n"
     ]
    }
   ],
   "source": [
    "my_list = ['apple', 'banana', 'cherry']\n",
    "if 'apple' in my_list:\n",
    "    print('Yes, apple is in the fruits list')"
   ],
   "metadata": {
    "collapsed": false,
    "ExecuteTime": {
     "end_time": "2024-04-23T18:06:20.309593Z",
     "start_time": "2024-04-23T18:06:20.307306Z"
    }
   },
   "id": "5215c7c813c951f8",
   "execution_count": 7
  },
  {
   "cell_type": "code",
   "outputs": [
    {
     "name": "stdout",
     "output_type": "stream",
     "text": [
      "Yes, orange is not in the fruits list\n"
     ]
    }
   ],
   "source": [
    "if 'orange' not in my_list:\n",
    "    print('Yes, orange is not in the fruits list')"
   ],
   "metadata": {
    "collapsed": false,
    "ExecuteTime": {
     "end_time": "2024-04-23T18:06:20.345602Z",
     "start_time": "2024-04-23T18:06:20.341491Z"
    }
   },
   "id": "14987e5af1c9a588",
   "execution_count": 8
  },
  {
   "cell_type": "markdown",
   "source": [
    "## List length"
   ],
   "metadata": {
    "collapsed": false
   },
   "id": "126ec3db5f5bf094"
  },
  {
   "cell_type": "code",
   "outputs": [
    {
     "name": "stdout",
     "output_type": "stream",
     "text": [
      "3\n",
      "5\n"
     ]
    }
   ],
   "source": [
    "my_list = ['apple', 'banana', 'cherry']\n",
    "print(len(my_list))\n",
    "my_list = [1, 2, 3, 4, 5]\n",
    "print(len(my_list))"
   ],
   "metadata": {
    "collapsed": false,
    "ExecuteTime": {
     "end_time": "2024-04-23T18:06:20.416435Z",
     "start_time": "2024-04-23T18:06:20.411307Z"
    }
   },
   "id": "4378a8f7786738fe",
   "execution_count": 9
  },
  {
   "cell_type": "markdown",
   "source": [
    "## Adding elements to a list"
   ],
   "metadata": {
    "collapsed": false
   },
   "id": "3f6b1aa05d33bc6b"
  },
  {
   "cell_type": "code",
   "outputs": [
    {
     "name": "stdout",
     "output_type": "stream",
     "text": [
      "['apple', 'banana', 'cherry', 'orange']\n"
     ]
    }
   ],
   "source": [
    "my_list = ['apple', 'banana', 'cherry']\n",
    "my_list.append('orange')\n",
    "print(my_list)"
   ],
   "metadata": {
    "collapsed": false,
    "ExecuteTime": {
     "end_time": "2024-04-23T18:06:20.429876Z",
     "start_time": "2024-04-23T18:06:20.424728Z"
    }
   },
   "id": "d23c09885e682fc4",
   "execution_count": 10
  },
  {
   "cell_type": "markdown",
   "source": [
    "## Adding elements at a specific index"
   ],
   "metadata": {
    "collapsed": false
   },
   "id": "72fc5401e40926ea"
  },
  {
   "cell_type": "code",
   "outputs": [
    {
     "name": "stdout",
     "output_type": "stream",
     "text": [
      "['apple', 'orange', 'banana', 'cherry']\n"
     ]
    }
   ],
   "source": [
    "my_list = ['apple', 'banana', 'cherry']\n",
    "my_list.insert(1, 'orange')\n",
    "print(my_list)"
   ],
   "metadata": {
    "collapsed": false,
    "ExecuteTime": {
     "end_time": "2024-04-23T18:06:20.438298Z",
     "start_time": "2024-04-23T18:06:20.434315Z"
    }
   },
   "id": "7588c5a26f78eb1e",
   "execution_count": 11
  },
  {
   "cell_type": "code",
   "outputs": [
    {
     "name": "stdout",
     "output_type": "stream",
     "text": [
      "['apple', 'banana', 'cherry', 'orange']\n"
     ]
    }
   ],
   "source": [
    "my_list = ['apple', 'banana', 'cherry']\n",
    "my_list.insert(3, 'orange')\n",
    "print(my_list)"
   ],
   "metadata": {
    "collapsed": false,
    "ExecuteTime": {
     "end_time": "2024-04-23T18:06:20.480583Z",
     "start_time": "2024-04-23T18:06:20.477114Z"
    }
   },
   "id": "66b5cf023770cd6a",
   "execution_count": 12
  },
  {
   "cell_type": "code",
   "outputs": [
    {
     "name": "stdout",
     "output_type": "stream",
     "text": [
      "['orange', 'apple', 'banana', 'cherry']\n"
     ]
    }
   ],
   "source": [
    "my_list = ['apple', 'banana', 'cherry']\n",
    "my_list.insert(0, 'orange')\n",
    "print(my_list)"
   ],
   "metadata": {
    "collapsed": false,
    "ExecuteTime": {
     "end_time": "2024-04-23T18:06:20.512075Z",
     "start_time": "2024-04-23T18:06:20.508908Z"
    }
   },
   "id": "5b91f1118d17c4a4",
   "execution_count": 13
  },
  {
   "cell_type": "markdown",
   "source": [
    "## Removing elements from a list"
   ],
   "metadata": {
    "collapsed": false
   },
   "id": "fe5645b41dd6ced"
  },
  {
   "cell_type": "code",
   "outputs": [
    {
     "name": "stdout",
     "output_type": "stream",
     "text": [
      "['apple', 'cherry']\n"
     ]
    }
   ],
   "source": [
    "my_list = ['apple', 'banana', 'cherry']\n",
    "my_list.remove('banana')\n",
    "print(my_list)"
   ],
   "metadata": {
    "collapsed": false,
    "ExecuteTime": {
     "end_time": "2024-04-23T18:06:20.555378Z",
     "start_time": "2024-04-23T18:06:20.551130Z"
    }
   },
   "id": "57f2a656c1b955d1",
   "execution_count": 14
  },
  {
   "cell_type": "code",
   "outputs": [
    {
     "name": "stdout",
     "output_type": "stream",
     "text": [
      "['apple', 'cherry']\n"
     ]
    }
   ],
   "source": [
    "my_list = ['apple', 'banana', 'cherry']\n",
    "my_list.pop(1)\n",
    "print(my_list)"
   ],
   "metadata": {
    "collapsed": false,
    "ExecuteTime": {
     "end_time": "2024-04-23T18:06:20.572477Z",
     "start_time": "2024-04-23T18:06:20.568244Z"
    }
   },
   "id": "c0fbf725e190d831",
   "execution_count": 15
  },
  {
   "cell_type": "code",
   "outputs": [
    {
     "name": "stdout",
     "output_type": "stream",
     "text": [
      "['apple', 'banana']\n"
     ]
    }
   ],
   "source": [
    "my_list = ['apple', 'banana', 'cherry']\n",
    "my_list.pop()\n",
    "print(my_list)"
   ],
   "metadata": {
    "collapsed": false,
    "ExecuteTime": {
     "end_time": "2024-04-23T18:06:20.591454Z",
     "start_time": "2024-04-23T18:06:20.587703Z"
    }
   },
   "id": "dcce180fcb99d707",
   "execution_count": 16
  },
  {
   "cell_type": "code",
   "outputs": [
    {
     "name": "stdout",
     "output_type": "stream",
     "text": [
      "['banana', 'cherry']\n"
     ]
    }
   ],
   "source": [
    "my_list = ['apple', 'banana', 'cherry']\n",
    "del my_list[0]\n",
    "print(my_list)"
   ],
   "metadata": {
    "collapsed": false,
    "ExecuteTime": {
     "end_time": "2024-04-23T18:06:20.668825Z",
     "start_time": "2024-04-23T18:06:20.665849Z"
    }
   },
   "id": "d56ed878a0fe6538",
   "execution_count": 17
  },
  {
   "cell_type": "code",
   "outputs": [],
   "source": [
    "my_list = ['apple', 'banana', 'cherry']\n",
    "del my_list\n",
    "# print(my_list) # This will cause an error because \"my_list\" no longer exists."
   ],
   "metadata": {
    "collapsed": false,
    "ExecuteTime": {
     "end_time": "2024-04-23T18:06:20.722374Z",
     "start_time": "2024-04-23T18:06:20.720167Z"
    }
   },
   "id": "829239dfb80b3dec",
   "execution_count": 18
  },
  {
   "cell_type": "markdown",
   "source": [
    "## Clearing a list"
   ],
   "metadata": {
    "collapsed": false
   },
   "id": "552aa9cc1709f8d6"
  },
  {
   "cell_type": "code",
   "outputs": [
    {
     "name": "stdout",
     "output_type": "stream",
     "text": [
      "[]\n"
     ]
    }
   ],
   "source": [
    "my_list = ['apple', 'banana', 'cherry']\n",
    "my_list.clear()\n",
    "print(my_list)"
   ],
   "metadata": {
    "collapsed": false,
    "ExecuteTime": {
     "end_time": "2024-04-23T18:06:20.734821Z",
     "start_time": "2024-04-23T18:06:20.732426Z"
    }
   },
   "id": "6ade090a311d4f18",
   "execution_count": 19
  },
  {
   "cell_type": "code",
   "outputs": [
    {
     "name": "stdout",
     "output_type": "stream",
     "text": [
      "[]\n"
     ]
    }
   ],
   "source": [
    "my_list = ['apple', 'banana', 'cherry']\n",
    "my_list = []\n",
    "print(my_list)"
   ],
   "metadata": {
    "collapsed": false,
    "ExecuteTime": {
     "end_time": "2024-04-23T18:06:20.751399Z",
     "start_time": "2024-04-23T18:06:20.748707Z"
    }
   },
   "id": "9788c9cee210e59d",
   "execution_count": 20
  },
  {
   "cell_type": "code",
   "outputs": [
    {
     "name": "stdout",
     "output_type": "stream",
     "text": [
      "[]\n"
     ]
    }
   ],
   "source": [
    "my_list = ['apple', 'banana', 'cherry']\n",
    "my_list[:] = []\n",
    "print(my_list)"
   ],
   "metadata": {
    "collapsed": false,
    "ExecuteTime": {
     "end_time": "2024-04-23T18:06:20.782495Z",
     "start_time": "2024-04-23T18:06:20.779695Z"
    }
   },
   "id": "9a30c1897319406f",
   "execution_count": 21
  },
  {
   "cell_type": "code",
   "outputs": [
    {
     "name": "stdout",
     "output_type": "stream",
     "text": [
      "[]\n"
     ]
    }
   ],
   "source": [
    "my_list = ['apple', 'banana', 'cherry']\n",
    "my_list = list()\n",
    "print(my_list)"
   ],
   "metadata": {
    "collapsed": false,
    "ExecuteTime": {
     "end_time": "2024-04-23T18:06:20.792400Z",
     "start_time": "2024-04-23T18:06:20.789970Z"
    }
   },
   "id": "318910797bc5ebba",
   "execution_count": 22
  },
  {
   "cell_type": "code",
   "outputs": [
    {
     "name": "stdout",
     "output_type": "stream",
     "text": [
      "[]\n"
     ]
    }
   ],
   "source": [
    "my_list = ['apple', 'banana', 'cherry']\n",
    "my_list *= 0\n",
    "print(my_list)"
   ],
   "metadata": {
    "collapsed": false,
    "ExecuteTime": {
     "end_time": "2024-04-23T18:06:20.804489Z",
     "start_time": "2024-04-23T18:06:20.800516Z"
    }
   },
   "id": "5f9d012b883566fd",
   "execution_count": 23
  },
  {
   "cell_type": "markdown",
   "source": [
    "## Copying a list"
   ],
   "metadata": {
    "collapsed": false
   },
   "id": "fa04e8cadf9a615f"
  },
  {
   "cell_type": "code",
   "outputs": [
    {
     "name": "stdout",
     "output_type": "stream",
     "text": [
      "['apple', 'banana', 'cherry']\n"
     ]
    }
   ],
   "source": [
    "my_list = ['apple', 'banana', 'cherry']\n",
    "new_list = my_list.copy()\n",
    "print(new_list)"
   ],
   "metadata": {
    "collapsed": false,
    "ExecuteTime": {
     "end_time": "2024-04-23T18:06:20.818554Z",
     "start_time": "2024-04-23T18:06:20.816223Z"
    }
   },
   "id": "9d180fd65c23d8",
   "execution_count": 24
  },
  {
   "cell_type": "code",
   "outputs": [
    {
     "name": "stdout",
     "output_type": "stream",
     "text": [
      "['apple', 'banana', 'cherry']\n"
     ]
    }
   ],
   "source": [
    "my_list = ['apple', 'banana', 'cherry']\n",
    "new_list = list(my_list)\n",
    "print(new_list)"
   ],
   "metadata": {
    "collapsed": false,
    "ExecuteTime": {
     "end_time": "2024-04-23T18:06:20.845279Z",
     "start_time": "2024-04-23T18:06:20.842861Z"
    }
   },
   "id": "a7cb67217ade22ce",
   "execution_count": 25
  },
  {
   "cell_type": "code",
   "outputs": [
    {
     "name": "stdout",
     "output_type": "stream",
     "text": [
      "['apple', 'banana', 'cherry']\n"
     ]
    }
   ],
   "source": [
    "my_list = ['apple', 'banana', 'cherry']\n",
    "new_list = my_list[:]\n",
    "print(new_list)"
   ],
   "metadata": {
    "collapsed": false,
    "ExecuteTime": {
     "end_time": "2024-04-23T18:06:20.862506Z",
     "start_time": "2024-04-23T18:06:20.860432Z"
    }
   },
   "id": "49b3d38f5eafaa81",
   "execution_count": 26
  },
  {
   "cell_type": "code",
   "outputs": [
    {
     "name": "stdout",
     "output_type": "stream",
     "text": [
      "['apple', 'banana', 'cherry']\n"
     ]
    }
   ],
   "source": [
    "my_list = ['apple', 'banana', 'cherry']\n",
    "new_list = []\n",
    "for x in my_list:\n",
    "    new_list.append(x)\n",
    "print(new_list)"
   ],
   "metadata": {
    "collapsed": false,
    "ExecuteTime": {
     "end_time": "2024-04-23T18:06:20.893738Z",
     "start_time": "2024-04-23T18:06:20.891254Z"
    }
   },
   "id": "d31c282ae17d3c78",
   "execution_count": 27
  },
  {
   "cell_type": "code",
   "outputs": [
    {
     "name": "stdout",
     "output_type": "stream",
     "text": [
      "['apple', 'banana', 'cherry']\n"
     ]
    }
   ],
   "source": [
    "my_list = ['apple', 'banana', 'cherry']\n",
    "new_list = [x for x in my_list]\n",
    "print(new_list)"
   ],
   "metadata": {
    "collapsed": false,
    "ExecuteTime": {
     "end_time": "2024-04-23T18:06:20.907115Z",
     "start_time": "2024-04-23T18:06:20.904358Z"
    }
   },
   "id": "ef2ab32ba0e7a0e1",
   "execution_count": 28
  },
  {
   "cell_type": "code",
   "outputs": [
    {
     "name": "stdout",
     "output_type": "stream",
     "text": [
      "['apple', 'banana', 'cherry']\n"
     ]
    }
   ],
   "source": [
    "my_list = ['apple', 'banana', 'cherry']\n",
    "new_list = list(my_list)\n",
    "print(new_list)"
   ],
   "metadata": {
    "collapsed": false,
    "ExecuteTime": {
     "end_time": "2024-04-23T18:06:20.916282Z",
     "start_time": "2024-04-23T18:06:20.914128Z"
    }
   },
   "id": "fd8861c803033e9f",
   "execution_count": 29
  },
  {
   "cell_type": "code",
   "outputs": [
    {
     "name": "stdout",
     "output_type": "stream",
     "text": [
      "['apple', 'banana', 'cherry']\n"
     ]
    }
   ],
   "source": [
    "my_list = ['apple', 'banana', 'cherry']\n",
    "new_list = my_list\n",
    "print(new_list)"
   ],
   "metadata": {
    "collapsed": false,
    "ExecuteTime": {
     "end_time": "2024-04-23T18:06:20.930230Z",
     "start_time": "2024-04-23T18:06:20.927673Z"
    }
   },
   "id": "f1bab2cbde18751c",
   "execution_count": 30
  },
  {
   "cell_type": "markdown",
   "source": [
    "## Joining lists"
   ],
   "metadata": {
    "collapsed": false
   },
   "id": "cb2414f004735a6f"
  },
  {
   "cell_type": "code",
   "outputs": [
    {
     "name": "stdout",
     "output_type": "stream",
     "text": [
      "['a', 'b', 'c', 1, 2, 3]\n"
     ]
    }
   ],
   "source": [
    "list1 = ['a', 'b', 'c']\n",
    "list2 = [1, 2, 3]\n",
    "list3 = list1 + list2\n",
    "print(list3)"
   ],
   "metadata": {
    "collapsed": false,
    "ExecuteTime": {
     "end_time": "2024-04-23T18:06:20.955501Z",
     "start_time": "2024-04-23T18:06:20.952858Z"
    }
   },
   "id": "305baa7b447d6bab",
   "execution_count": 31
  },
  {
   "cell_type": "code",
   "outputs": [
    {
     "name": "stdout",
     "output_type": "stream",
     "text": [
      "['a', 'b', 'c', 1, 2, 3]\n"
     ]
    }
   ],
   "source": [
    "list1 = ['a', 'b', 'c']\n",
    "list2 = [1, 2, 3]\n",
    "for x in list2:\n",
    "    list1.append(x)\n",
    "print(list1)"
   ],
   "metadata": {
    "collapsed": false,
    "ExecuteTime": {
     "end_time": "2024-04-23T18:06:20.968696Z",
     "start_time": "2024-04-23T18:06:20.966113Z"
    }
   },
   "id": "ab63fe45246fa1b",
   "execution_count": 32
  },
  {
   "cell_type": "code",
   "outputs": [
    {
     "name": "stdout",
     "output_type": "stream",
     "text": [
      "['a', 'b', 'c', 1, 2, 3]\n"
     ]
    }
   ],
   "source": [
    "list1 = ['a', 'b', 'c']\n",
    "list2 = [1, 2, 3]\n",
    "list1.extend(list2)\n",
    "print(list1)"
   ],
   "metadata": {
    "collapsed": false,
    "ExecuteTime": {
     "end_time": "2024-04-23T18:06:20.999734Z",
     "start_time": "2024-04-23T18:06:20.997095Z"
    }
   },
   "id": "152b862f22481d52",
   "execution_count": 33
  },
  {
   "cell_type": "code",
   "outputs": [
    {
     "name": "stdout",
     "output_type": "stream",
     "text": [
      "['a', 'b', 'c', 1, 2, 3]\n"
     ]
    }
   ],
   "source": [
    "list1 = ['a', 'b', 'c']\n",
    "list2 = [1, 2, 3]\n",
    "list1 += list2\n",
    "print(list1)"
   ],
   "metadata": {
    "collapsed": false,
    "ExecuteTime": {
     "end_time": "2024-04-23T18:06:21.014179Z",
     "start_time": "2024-04-23T18:06:21.011728Z"
    }
   },
   "id": "321ee43d90d88534",
   "execution_count": 34
  },
  {
   "cell_type": "code",
   "outputs": [
    {
     "name": "stdout",
     "output_type": "stream",
     "text": [
      "['a', 'b', 'c', [1, 2, 3]]\n"
     ]
    }
   ],
   "source": [
    "list1 = ['a', 'b', 'c']\n",
    "list2 = [1, 2, 3]\n",
    "list1.append(list2)\n",
    "print(list1)"
   ],
   "metadata": {
    "collapsed": false,
    "ExecuteTime": {
     "end_time": "2024-04-23T18:06:21.031161Z",
     "start_time": "2024-04-23T18:06:21.028697Z"
    }
   },
   "id": "a267eda665724f7d",
   "execution_count": 35
  },
  {
   "cell_type": "code",
   "outputs": [
    {
     "name": "stdout",
     "output_type": "stream",
     "text": [
      "['a', 'b', 'c', [1, 2, 3]]\n"
     ]
    }
   ],
   "source": [
    "list1 = ['a', 'b', 'c']\n",
    "list2 = [1, 2, 3]\n",
    "list1.insert(3, list2)\n",
    "print(list1)"
   ],
   "metadata": {
    "collapsed": false,
    "ExecuteTime": {
     "end_time": "2024-04-23T18:06:21.049467Z",
     "start_time": "2024-04-23T18:06:21.046979Z"
    }
   },
   "id": "2eafab71f7469915",
   "execution_count": 36
  },
  {
   "cell_type": "code",
   "outputs": [
    {
     "name": "stdout",
     "output_type": "stream",
     "text": [
      "['a', [1, 2, 3], 'b', 'c']\n"
     ]
    }
   ],
   "source": [
    "list1 = ['a', 'b', 'c']\n",
    "list2 = [1, 2, 3]\n",
    "list1.insert(1, list2)\n",
    "print(list1)"
   ],
   "metadata": {
    "collapsed": false,
    "ExecuteTime": {
     "end_time": "2024-04-23T18:06:21.058437Z",
     "start_time": "2024-04-23T18:06:21.056214Z"
    }
   },
   "id": "cc82c3ebf933a898",
   "execution_count": 37
  },
  {
   "cell_type": "code",
   "outputs": [
    {
     "name": "stdout",
     "output_type": "stream",
     "text": [
      "[[1, 2, 3], 'a', 'b', 'c']\n"
     ]
    }
   ],
   "source": [
    "list1 = ['a', 'b', 'c']\n",
    "list2 = [1, 2, 3]\n",
    "list1.insert(0, list2)\n",
    "print(list1)"
   ],
   "metadata": {
    "collapsed": false,
    "ExecuteTime": {
     "end_time": "2024-04-23T18:06:21.075551Z",
     "start_time": "2024-04-23T18:06:21.072342Z"
    }
   },
   "id": "39ea913e8af9425f",
   "execution_count": 38
  },
  {
   "cell_type": "code",
   "outputs": [
    {
     "name": "stdout",
     "output_type": "stream",
     "text": [
      "['a', 'b', [1, 2, 3], 'c']\n"
     ]
    }
   ],
   "source": [
    "list1 = ['a', 'b', 'c']\n",
    "list2 = [1, 2, 3]\n",
    "list1.insert(-1, list2)\n",
    "print(list1)"
   ],
   "metadata": {
    "collapsed": false,
    "ExecuteTime": {
     "end_time": "2024-04-23T18:06:21.104407Z",
     "start_time": "2024-04-23T18:06:21.101064Z"
    }
   },
   "id": "61df381f63cff770",
   "execution_count": 39
  },
  {
   "cell_type": "markdown",
   "source": [
    "## List comprehension"
   ],
   "metadata": {
    "collapsed": false
   },
   "id": "259a65f40f969e05"
  },
  {
   "cell_type": "code",
   "outputs": [
    {
     "name": "stdout",
     "output_type": "stream",
     "text": [
      "[0, 1, 2, 3, 4, 5, 6, 7, 8, 9]\n"
     ]
    }
   ],
   "source": [
    "my_list = [x for x in range(10)]\n",
    "print(my_list)"
   ],
   "metadata": {
    "collapsed": false,
    "ExecuteTime": {
     "end_time": "2024-04-23T18:06:21.118014Z",
     "start_time": "2024-04-23T18:06:21.114885Z"
    }
   },
   "id": "8e234a96545fba5b",
   "execution_count": 40
  },
  {
   "cell_type": "code",
   "outputs": [
    {
     "name": "stdout",
     "output_type": "stream",
     "text": [
      "[0, 1, 2, 3, 4]\n"
     ]
    }
   ],
   "source": [
    "my_list = [x for x in range(10) if x < 5]\n",
    "print(my_list)"
   ],
   "metadata": {
    "collapsed": false,
    "ExecuteTime": {
     "end_time": "2024-04-23T18:06:21.135651Z",
     "start_time": "2024-04-23T18:06:21.132772Z"
    }
   },
   "id": "9dda6a8783177039",
   "execution_count": 41
  },
  {
   "cell_type": "code",
   "outputs": [
    {
     "name": "stdout",
     "output_type": "stream",
     "text": [
      "['APPLE', 'BANANA', 'CHERRY']\n"
     ]
    }
   ],
   "source": [
    "my_list = [x.upper() for x in ['apple', 'banana', 'cherry']]\n",
    "print(my_list)"
   ],
   "metadata": {
    "collapsed": false,
    "ExecuteTime": {
     "end_time": "2024-04-23T18:06:21.157558Z",
     "start_time": "2024-04-23T18:06:21.154653Z"
    }
   },
   "id": "5de49f10d65fe8d6",
   "execution_count": 42
  },
  {
   "cell_type": "code",
   "outputs": [
    {
     "name": "stdout",
     "output_type": "stream",
     "text": [
      "['apple', 'orange', 'cherry']\n"
     ]
    }
   ],
   "source": [
    "my_list = [x if x != 'banana' else 'orange' for x in ['apple', 'banana', 'cherry']]\n",
    "print(my_list)"
   ],
   "metadata": {
    "collapsed": false,
    "ExecuteTime": {
     "end_time": "2024-04-23T18:06:21.169455Z",
     "start_time": "2024-04-23T18:06:21.166777Z"
    }
   },
   "id": "ac0423b5cffb890c",
   "execution_count": 43
  },
  {
   "cell_type": "markdown",
   "source": [
    "## Nested lists"
   ],
   "metadata": {
    "collapsed": false
   },
   "id": "8e12cff75b155d61"
  },
  {
   "cell_type": "code",
   "outputs": [
    {
     "name": "stdout",
     "output_type": "stream",
     "text": [
      "[['apple', 'banana', 'cherry'], [1, 2, 3]]\n"
     ]
    }
   ],
   "source": [
    "my_list = [['apple', 'banana', 'cherry'], [1, 2, 3]]\n",
    "print(my_list)"
   ],
   "metadata": {
    "collapsed": false,
    "ExecuteTime": {
     "end_time": "2024-04-23T18:06:21.194098Z",
     "start_time": "2024-04-23T18:06:21.191770Z"
    }
   },
   "id": "745460fac309fb12",
   "execution_count": 44
  },
  {
   "cell_type": "code",
   "outputs": [
    {
     "name": "stdout",
     "output_type": "stream",
     "text": [
      "['apple', 'banana', 'cherry']\n",
      "[1, 2, 3]\n"
     ]
    }
   ],
   "source": [
    "my_list = [['apple', 'banana', 'cherry'], [1, 2, 3]]\n",
    "print(my_list[0])\n",
    "print(my_list[1])"
   ],
   "metadata": {
    "collapsed": false,
    "ExecuteTime": {
     "end_time": "2024-04-23T18:06:21.233524Z",
     "start_time": "2024-04-23T18:06:21.230859Z"
    }
   },
   "id": "8773bde65b8fdbcd",
   "execution_count": 45
  },
  {
   "cell_type": "code",
   "outputs": [
    {
     "name": "stdout",
     "output_type": "stream",
     "text": [
      "banana\n",
      "3\n"
     ]
    }
   ],
   "source": [
    "my_list = [['apple', 'banana', 'cherry'], [1, 2, 3]]\n",
    "print(my_list[0][1])\n",
    "print(my_list[1][2])"
   ],
   "metadata": {
    "collapsed": false,
    "ExecuteTime": {
     "end_time": "2024-04-23T18:06:21.259350Z",
     "start_time": "2024-04-23T18:06:21.256390Z"
    }
   },
   "id": "3873390e5609ae8e",
   "execution_count": 46
  },
  {
   "cell_type": "code",
   "outputs": [
    {
     "name": "stdout",
     "output_type": "stream",
     "text": [
      "apple\n",
      "banana\n",
      "cherry\n",
      "1\n",
      "2\n",
      "3\n"
     ]
    }
   ],
   "source": [
    "my_list = [['apple', 'banana', 'cherry'], [1, 2, 3]]\n",
    "for x in my_list:\n",
    "    for y in x:\n",
    "        print(y)"
   ],
   "metadata": {
    "collapsed": false,
    "ExecuteTime": {
     "end_time": "2024-04-23T18:06:21.281220Z",
     "start_time": "2024-04-23T18:06:21.278083Z"
    }
   },
   "id": "85da25e31f1a778a",
   "execution_count": 47
  },
  {
   "cell_type": "markdown",
   "source": [
    "## List unpacking"
   ],
   "metadata": {
    "collapsed": false
   },
   "id": "5fdaf47522f64c9"
  },
  {
   "cell_type": "code",
   "outputs": [
    {
     "name": "stdout",
     "output_type": "stream",
     "text": [
      "apple\n",
      "banana\n",
      "cherry\n"
     ]
    }
   ],
   "source": [
    "my_list = ['apple', 'banana', 'cherry']\n",
    "a, b, c = my_list\n",
    "print(a)\n",
    "print(b)\n",
    "print(c)"
   ],
   "metadata": {
    "collapsed": false,
    "ExecuteTime": {
     "end_time": "2024-04-23T18:06:21.292569Z",
     "start_time": "2024-04-23T18:06:21.289877Z"
    }
   },
   "id": "1c24d1369c18e7da",
   "execution_count": 48
  },
  {
   "cell_type": "code",
   "outputs": [
    {
     "name": "stdout",
     "output_type": "stream",
     "text": [
      "apple\n",
      "banana\n"
     ]
    }
   ],
   "source": [
    "my_list = ['apple', 'banana', 'cherry']\n",
    "a, b, _ = my_list\n",
    "print(a)\n",
    "print(b)"
   ],
   "metadata": {
    "collapsed": false,
    "ExecuteTime": {
     "end_time": "2024-04-23T18:06:21.308699Z",
     "start_time": "2024-04-23T18:06:21.306232Z"
    }
   },
   "id": "2c95a079962b0a7",
   "execution_count": 49
  },
  {
   "cell_type": "code",
   "outputs": [
    {
     "name": "stdout",
     "output_type": "stream",
     "text": [
      "apple\n",
      "['banana', 'cherry']\n"
     ]
    }
   ],
   "source": [
    "my_list = ['apple', 'banana', 'cherry']\n",
    "a, *b = my_list\n",
    "print(a)\n",
    "print(b)"
   ],
   "metadata": {
    "collapsed": false,
    "ExecuteTime": {
     "end_time": "2024-04-23T18:06:21.328755Z",
     "start_time": "2024-04-23T18:06:21.326437Z"
    }
   },
   "id": "55bb4c782ccb7f63",
   "execution_count": 50
  },
  {
   "cell_type": "code",
   "outputs": [
    {
     "name": "stdout",
     "output_type": "stream",
     "text": [
      "['apple', 'banana']\n",
      "cherry\n"
     ]
    }
   ],
   "source": [
    "my_list = ['apple', 'banana', 'cherry']\n",
    "*a, b = my_list\n",
    "print(a)\n",
    "print(b)"
   ],
   "metadata": {
    "collapsed": false,
    "ExecuteTime": {
     "end_time": "2024-04-23T18:06:21.340605Z",
     "start_time": "2024-04-23T18:06:21.338581Z"
    }
   },
   "id": "1b77476aee3901cb",
   "execution_count": 51
  },
  {
   "cell_type": "code",
   "outputs": [
    {
     "name": "stdout",
     "output_type": "stream",
     "text": [
      "apple\n",
      "['banana']\n",
      "cherry\n"
     ]
    }
   ],
   "source": [
    "my_list = ['apple', 'banana', 'cherry']\n",
    "a, *b, c = my_list\n",
    "print(a)\n",
    "print(b)\n",
    "print(c)"
   ],
   "metadata": {
    "collapsed": false,
    "ExecuteTime": {
     "end_time": "2024-04-23T18:06:21.354600Z",
     "start_time": "2024-04-23T18:06:21.350779Z"
    }
   },
   "id": "f93af459d2ed8e18",
   "execution_count": 52
  },
  {
   "cell_type": "code",
   "outputs": [
    {
     "name": "stdout",
     "output_type": "stream",
     "text": [
      "apple\n",
      "banana\n",
      "cherry\n",
      "[]\n"
     ]
    }
   ],
   "source": [
    "my_list = ['apple', 'banana', 'cherry']\n",
    "a, b, c, *d = my_list\n",
    "print(a)\n",
    "print(b)\n",
    "print(c)\n",
    "print(d)"
   ],
   "metadata": {
    "collapsed": false,
    "ExecuteTime": {
     "end_time": "2024-04-23T18:06:21.374779Z",
     "start_time": "2024-04-23T18:06:21.372340Z"
    }
   },
   "id": "81c05361a8c3bc18",
   "execution_count": 53
  },
  {
   "cell_type": "code",
   "outputs": [
    {
     "ename": "ValueError",
     "evalue": "not enough values to unpack (expected 5, got 3)",
     "output_type": "error",
     "traceback": [
      "\u001B[0;31m---------------------------------------------------------------------------\u001B[0m",
      "\u001B[0;31mValueError\u001B[0m                                Traceback (most recent call last)",
      "Cell \u001B[0;32mIn[54], line 2\u001B[0m\n\u001B[1;32m      1\u001B[0m my_list \u001B[38;5;241m=\u001B[39m [\u001B[38;5;124m'\u001B[39m\u001B[38;5;124mapple\u001B[39m\u001B[38;5;124m'\u001B[39m, \u001B[38;5;124m'\u001B[39m\u001B[38;5;124mbanana\u001B[39m\u001B[38;5;124m'\u001B[39m, \u001B[38;5;124m'\u001B[39m\u001B[38;5;124mcherry\u001B[39m\u001B[38;5;124m'\u001B[39m]\n\u001B[0;32m----> 2\u001B[0m a, b, c, d, e \u001B[38;5;241m=\u001B[39m my_list\n\u001B[1;32m      3\u001B[0m \u001B[38;5;28mprint\u001B[39m(a)\n\u001B[1;32m      4\u001B[0m \u001B[38;5;28mprint\u001B[39m(b)\n",
      "\u001B[0;31mValueError\u001B[0m: not enough values to unpack (expected 5, got 3)"
     ]
    }
   ],
   "source": [
    "my_list = ['apple', 'banana', 'cherry']\n",
    "a, b, c, d, e = my_list\n",
    "print(a)\n",
    "print(b)\n",
    "print(c)\n",
    "print(d)\n",
    "print(e)"
   ],
   "metadata": {
    "collapsed": false,
    "ExecuteTime": {
     "end_time": "2024-04-23T18:06:21.510524Z",
     "start_time": "2024-04-23T18:06:21.384515Z"
    }
   },
   "id": "71d95ecdc7d143d8",
   "execution_count": 54
  }
 ],
 "metadata": {
  "kernelspec": {
   "display_name": "Python 3",
   "language": "python",
   "name": "python3"
  },
  "language_info": {
   "codemirror_mode": {
    "name": "ipython",
    "version": 2
   },
   "file_extension": ".py",
   "mimetype": "text/x-python",
   "name": "python",
   "nbconvert_exporter": "python",
   "pygments_lexer": "ipython2",
   "version": "2.7.6"
  }
 },
 "nbformat": 4,
 "nbformat_minor": 5
}
