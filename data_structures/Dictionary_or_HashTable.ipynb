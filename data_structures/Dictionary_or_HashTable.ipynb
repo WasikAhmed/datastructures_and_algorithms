{
 "cells": [
  {
   "cell_type": "markdown",
   "source": [
    "# Dictionary in Python"
   ],
   "metadata": {
    "collapsed": false
   },
   "id": "d37e9a3490c459dd"
  },
  {
   "cell_type": "markdown",
   "source": [
    "**In Python, a hash table is implemented using dictionaries.\n",
    "Dictionaries are created using curly braces, and they are used to store key-value pairs.\n",
    "The keys in a dictionary are unique and can be of any data type, while the values can be of any data type. The values can be duplicated.\n",
    "The keys must be immutable, while the values can be mutable.\n",
    "The keys in a dictionary are case-sensitive and must be unique.\n",
    "Python uses a hash function to convert keys into hash values.**"
   ],
   "metadata": {
    "collapsed": false
   },
   "id": "901cfcaddbd2c17c"
  },
  {
   "cell_type": "markdown",
   "source": [
    "## Dictionary methods"
   ],
   "metadata": {
    "collapsed": false
   },
   "id": "25568044e97cba00"
  },
  {
   "cell_type": "markdown",
   "source": [
    "**1. clear()** - Removes all the elements from the dictionary\n",
    "**2. copy()** - Returns a shallow copy of the dictionary\n",
    "**3. fromkeys()** - Returns a dictionary with the specified keys and values\n",
    "**4. get()** - Returns the value of the specified key\n",
    "**5. items()** - Returns a list containing a tuple for each key value pair\n",
    "**6. keys()** - Returns a list containing the dictionary's keys\n",
    "**7. pop()** - Removes the element with the specified key\n",
    "**8. popitem()** - Removes the last inserted key-value pair\n",
    "**9. setdefault()** - Returns the value of the specified key. If the key does not exist: insert the key, with the specified value\n",
    "**10. update()** - Updates the dictionary with the specified key-value pairs\n",
    "**11. values()** - Returns a list of all the values in the dictionary"
   ],
   "metadata": {
    "collapsed": false
   },
   "id": "1832e866305d81bf"
  },
  {
   "cell_type": "markdown",
   "source": [
    "## Creating a dictionary"
   ],
   "metadata": {
    "collapsed": false
   },
   "id": "cc97bc27d7cb0e0d"
  },
  {
   "cell_type": "code",
   "outputs": [
    {
     "name": "stdout",
     "output_type": "stream",
     "text": [
      "{'name': 'John', 'age': 30, 'city': 'New York'}\n"
     ]
    }
   ],
   "source": [
    "my_dict = {\n",
    "    \"name\": \"John\",\n",
    "    \"age\": 30,\n",
    "    \"city\": \"New York\"\n",
    "}\n",
    "print(my_dict)"
   ],
   "metadata": {
    "collapsed": false,
    "ExecuteTime": {
     "end_time": "2024-04-24T16:21:15.129827Z",
     "start_time": "2024-04-24T16:21:15.122364Z"
    }
   },
   "id": "f6c316a18d0b8ab0",
   "execution_count": 1
  },
  {
   "cell_type": "code",
   "outputs": [
    {
     "name": "stdout",
     "output_type": "stream",
     "text": [
      "{'name': 'John', 'age': 30, 'city': 'New York'}\n"
     ]
    }
   ],
   "source": [
    "my_dict = dict(name=\"John\", age=30, city=\"New York\")\n",
    "print(my_dict)"
   ],
   "metadata": {
    "collapsed": false,
    "ExecuteTime": {
     "end_time": "2024-04-24T16:21:15.291658Z",
     "start_time": "2024-04-24T16:21:15.287307Z"
    }
   },
   "id": "faaeb7c2a4ae0c1d",
   "execution_count": 2
  },
  {
   "cell_type": "code",
   "outputs": [
    {
     "name": "stdout",
     "output_type": "stream",
     "text": [
      "{'name': 'John', 'age': 30, 'city': 'New York'}\n"
     ]
    }
   ],
   "source": [
    "my_dict = dict([(\"name\", \"John\"), (\"age\", 30), (\"city\", \"New York\")])\n",
    "print(my_dict)"
   ],
   "metadata": {
    "collapsed": false,
    "ExecuteTime": {
     "end_time": "2024-04-24T16:21:15.331739Z",
     "start_time": "2024-04-24T16:21:15.326498Z"
    }
   },
   "id": "1e1afa51039de21b",
   "execution_count": 3
  },
  {
   "cell_type": "code",
   "outputs": [
    {
     "name": "stdout",
     "output_type": "stream",
     "text": [
      "{'name': 'John', 'age': 30, 'city': 'New York'}\n"
     ]
    }
   ],
   "source": [
    "my_dict = dict({\"name\": \"John\", \"age\": 30, \"city\": \"New York\"})\n",
    "print(my_dict)"
   ],
   "metadata": {
    "collapsed": false,
    "ExecuteTime": {
     "end_time": "2024-04-24T16:21:15.369300Z",
     "start_time": "2024-04-24T16:21:15.364483Z"
    }
   },
   "id": "263ca06c75274736",
   "execution_count": 4
  },
  {
   "cell_type": "code",
   "outputs": [
    {
     "name": "stdout",
     "output_type": "stream",
     "text": [
      "{'name': 'John', 'age': 30, 'city': 'New York'}\n"
     ]
    }
   ],
   "source": [
    "my_dict = dict(zip([\"name\", \"age\", \"city\"], [\"John\", 30, \"New York\"]))\n",
    "print(my_dict)"
   ],
   "metadata": {
    "collapsed": false,
    "ExecuteTime": {
     "end_time": "2024-04-24T16:21:15.389182Z",
     "start_time": "2024-04-24T16:21:15.384201Z"
    }
   },
   "id": "e62c5ffc1a5b171b",
   "execution_count": 5
  },
  {
   "cell_type": "code",
   "outputs": [
    {
     "name": "stdout",
     "output_type": "stream",
     "text": [
      "{'name': 'unknown', 'age': 'unknown', 'city': 'unknown'}\n"
     ]
    }
   ],
   "source": [
    "my_dict = dict.fromkeys([\"name\", \"age\", \"city\"], \"unknown\")\n",
    "print(my_dict)"
   ],
   "metadata": {
    "collapsed": false,
    "ExecuteTime": {
     "end_time": "2024-04-24T16:21:15.411355Z",
     "start_time": "2024-04-24T16:21:15.406750Z"
    }
   },
   "id": "ccec393c427400f8",
   "execution_count": 6
  },
  {
   "cell_type": "code",
   "outputs": [
    {
     "name": "stdout",
     "output_type": "stream",
     "text": [
      "{'name': ['unknown', 'unknown'], 'age': ['unknown', 'unknown'], 'city': ['unknown', 'unknown']}\n"
     ]
    }
   ],
   "source": [
    "my_dict = dict.fromkeys([\"name\", \"age\", \"city\"], [\"unknown\", \"unknown\"])\n",
    "print(my_dict)"
   ],
   "metadata": {
    "collapsed": false,
    "ExecuteTime": {
     "end_time": "2024-04-24T16:21:15.443652Z",
     "start_time": "2024-04-24T16:21:15.439411Z"
    }
   },
   "id": "d502d83c8673489c",
   "execution_count": 7
  },
  {
   "cell_type": "code",
   "outputs": [
    {
     "name": "stdout",
     "output_type": "stream",
     "text": [
      "{'name': ['unknown'], 'age': ['unknown'], 'city': ['unknown']}\n"
     ]
    }
   ],
   "source": [
    "my_dict = dict.fromkeys([\"name\", \"age\", \"city\"], [\"unknown\"])\n",
    "print(my_dict)"
   ],
   "metadata": {
    "collapsed": false,
    "ExecuteTime": {
     "end_time": "2024-04-24T16:21:15.479342Z",
     "start_time": "2024-04-24T16:21:15.475568Z"
    }
   },
   "id": "9d19560106a107bf",
   "execution_count": 8
  },
  {
   "cell_type": "code",
   "outputs": [
    {
     "name": "stdout",
     "output_type": "stream",
     "text": [
      "{1: 100, 2: 100, 4: 100}\n"
     ]
    }
   ],
   "source": [
    "my_dict = dict.fromkeys([1, 2, 4], 100)\n",
    "print(my_dict)"
   ],
   "metadata": {
    "collapsed": false,
    "ExecuteTime": {
     "end_time": "2024-04-24T16:21:15.524368Z",
     "start_time": "2024-04-24T16:21:15.519913Z"
    }
   },
   "id": "f4c28824a1117393",
   "execution_count": 9
  },
  {
   "cell_type": "markdown",
   "source": [
    "## Accessing elements"
   ],
   "metadata": {
    "collapsed": false
   },
   "id": "19b2341e50b5d94b"
  },
  {
   "cell_type": "code",
   "outputs": [
    {
     "name": "stdout",
     "output_type": "stream",
     "text": [
      "John\n",
      "30\n"
     ]
    }
   ],
   "source": [
    "my_dict = {\n",
    "    \"name\": \"John\",\n",
    "    \"age\": 30,\n",
    "    \"city\": \"New York\"\n",
    "}\n",
    "print(my_dict[\"name\"])\n",
    "print(my_dict.get(\"age\"))"
   ],
   "metadata": {
    "collapsed": false,
    "ExecuteTime": {
     "end_time": "2024-04-24T16:21:15.553441Z",
     "start_time": "2024-04-24T16:21:15.549681Z"
    }
   },
   "id": "1225aa4825b4d4aa",
   "execution_count": 10
  },
  {
   "cell_type": "markdown",
   "source": [
    "## Changing elements"
   ],
   "metadata": {
    "collapsed": false
   },
   "id": "92618ba4eae3f7f6"
  },
  {
   "cell_type": "code",
   "outputs": [
    {
     "name": "stdout",
     "output_type": "stream",
     "text": [
      "{'name': 'Jane', 'age': 30, 'city': 'New York'}\n",
      "{'name': 'John', 'age': 30, 'city': 'New York'}\n"
     ]
    }
   ],
   "source": [
    "my_dict = {\"name\": \"Jane\", \"age\": 30, \"city\": \"New York\"}\n",
    "print(my_dict)\n",
    "my_dict[\"name\"] = \"John\"\n",
    "print(my_dict)"
   ],
   "metadata": {
    "collapsed": false,
    "ExecuteTime": {
     "end_time": "2024-04-24T16:21:15.600358Z",
     "start_time": "2024-04-24T16:21:15.594694Z"
    }
   },
   "id": "a042a9e5a53cc254",
   "execution_count": 11
  },
  {
   "cell_type": "code",
   "outputs": [
    {
     "name": "stdout",
     "output_type": "stream",
     "text": [
      "{'name': 'Jane', 'age': 30, 'city': 'New York'}\n",
      "{'name': 'Jane', 'age': 30, 'city': 'New York'}\n",
      "{'name': 'Jane', 'age': 30, 'city': 'New York', 'email': ''}\n"
     ]
    }
   ],
   "source": [
    "# setdefault() method\n",
    "my_dict = {\"name\": \"Jane\", \"age\": 30, \"city\": \"New York\"}\n",
    "print(my_dict)\n",
    "my_dict.setdefault(\"name\", \"John\")\n",
    "print(my_dict)\n",
    "my_dict.setdefault(\"email\", \"\")\n",
    "print(my_dict)"
   ],
   "metadata": {
    "collapsed": false,
    "ExecuteTime": {
     "end_time": "2024-04-24T16:21:15.642803Z",
     "start_time": "2024-04-24T16:21:15.638347Z"
    }
   },
   "id": "e48d647e5d583a47",
   "execution_count": 12
  },
  {
   "cell_type": "markdown",
   "source": [
    "## Loop through a dictionary"
   ],
   "metadata": {
    "collapsed": false
   },
   "id": "e5660e7ed254554c"
  },
  {
   "cell_type": "code",
   "outputs": [
    {
     "name": "stdout",
     "output_type": "stream",
     "text": [
      "name: John\n",
      "age: 30\n",
      "city: New York\n"
     ]
    }
   ],
   "source": [
    "my_dict = {\n",
    "    \"name\": \"John\",\n",
    "    \"age\": 30,\n",
    "    \"city\": \"New York\"\n",
    "}\n",
    "for key in my_dict:\n",
    "    print(key, my_dict[key], sep=\": \")"
   ],
   "metadata": {
    "collapsed": false,
    "ExecuteTime": {
     "end_time": "2024-04-24T16:21:15.718740Z",
     "start_time": "2024-04-24T16:21:15.714242Z"
    }
   },
   "id": "267f999c7d344716",
   "execution_count": 13
  },
  {
   "cell_type": "markdown",
   "source": [
    "## Getting keys"
   ],
   "metadata": {
    "collapsed": false
   },
   "id": "e59b21ca4df87be6"
  },
  {
   "cell_type": "code",
   "outputs": [
    {
     "name": "stdout",
     "output_type": "stream",
     "text": [
      "dict_keys(['name', 'age', 'city'])\n"
     ]
    }
   ],
   "source": [
    "my_dict = {\n",
    "    \"name\": \"John\",\n",
    "    \"age\": 30,\n",
    "    \"city\": \"New York\"\n",
    "}\n",
    "print(my_dict.keys())"
   ],
   "metadata": {
    "collapsed": false,
    "ExecuteTime": {
     "end_time": "2024-04-24T16:21:15.745885Z",
     "start_time": "2024-04-24T16:21:15.742529Z"
    }
   },
   "id": "3f59900447981bbb",
   "execution_count": 14
  },
  {
   "cell_type": "code",
   "outputs": [
    {
     "name": "stdout",
     "output_type": "stream",
     "text": [
      "name age city "
     ]
    }
   ],
   "source": [
    "for key in my_dict.keys():\n",
    "    print(key, end=\" \")"
   ],
   "metadata": {
    "collapsed": false,
    "ExecuteTime": {
     "end_time": "2024-04-24T16:21:15.777727Z",
     "start_time": "2024-04-24T16:21:15.774467Z"
    }
   },
   "id": "a1f29fdda89dffcb",
   "execution_count": 15
  },
  {
   "cell_type": "markdown",
   "source": [
    "## Getting values"
   ],
   "metadata": {
    "collapsed": false
   },
   "id": "e800ebd8a82594cc"
  },
  {
   "cell_type": "code",
   "outputs": [
    {
     "name": "stdout",
     "output_type": "stream",
     "text": [
      "dict_values(['John', 30, 'New York'])\n"
     ]
    }
   ],
   "source": [
    "my_dict = {\n",
    "    \"name\": \"John\",\n",
    "    \"age\": 30,\n",
    "    \"city\": \"New York\"\n",
    "}\n",
    "print(my_dict.values())"
   ],
   "metadata": {
    "collapsed": false,
    "ExecuteTime": {
     "end_time": "2024-04-24T16:21:15.814853Z",
     "start_time": "2024-04-24T16:21:15.809794Z"
    }
   },
   "id": "f2d7da1a8aeeb794",
   "execution_count": 16
  },
  {
   "cell_type": "code",
   "outputs": [
    {
     "name": "stdout",
     "output_type": "stream",
     "text": [
      "John 30 New York "
     ]
    }
   ],
   "source": [
    "for value in my_dict.values():\n",
    "    print(value, end=\" \")"
   ],
   "metadata": {
    "collapsed": false,
    "ExecuteTime": {
     "end_time": "2024-04-24T16:21:15.859675Z",
     "start_time": "2024-04-24T16:21:15.856523Z"
    }
   },
   "id": "ff4241b8246343ba",
   "execution_count": 17
  },
  {
   "cell_type": "markdown",
   "source": [
    "## Getting items"
   ],
   "metadata": {
    "collapsed": false
   },
   "id": "f31b60a9eae747df"
  },
  {
   "cell_type": "code",
   "outputs": [
    {
     "name": "stdout",
     "output_type": "stream",
     "text": [
      "name: John\n",
      "age: 30\n",
      "city: New York\n"
     ]
    }
   ],
   "source": [
    "for key, value in my_dict.items():\n",
    "    print(key, value, sep=\": \")"
   ],
   "metadata": {
    "collapsed": false,
    "ExecuteTime": {
     "end_time": "2024-04-24T16:21:15.873797Z",
     "start_time": "2024-04-24T16:21:15.869763Z"
    }
   },
   "id": "5f72bbde7ee46a4c",
   "execution_count": 18
  },
  {
   "cell_type": "markdown",
   "source": [
    "## Checking if key exists"
   ],
   "metadata": {
    "collapsed": false
   },
   "id": "b88404c844e3acc6"
  },
  {
   "cell_type": "code",
   "outputs": [
    {
     "name": "stdout",
     "output_type": "stream",
     "text": [
      "Yes\n"
     ]
    }
   ],
   "source": [
    "my_dict = {\n",
    "    \"name\": \"John\",\n",
    "    \"age\": 30,\n",
    "    \"city\": \"New York\"\n",
    "}\n",
    "if \"name\" in my_dict:\n",
    "    print(\"Yes\")\n",
    "else:\n",
    "    print(\"No\")"
   ],
   "metadata": {
    "collapsed": false,
    "ExecuteTime": {
     "end_time": "2024-04-24T16:21:15.895563Z",
     "start_time": "2024-04-24T16:21:15.891612Z"
    }
   },
   "id": "6acc43a597ecb26f",
   "execution_count": 19
  },
  {
   "cell_type": "code",
   "outputs": [
    {
     "name": "stdout",
     "output_type": "stream",
     "text": [
      "Yes\n"
     ]
    }
   ],
   "source": [
    "if \"John\" in my_dict.values():\n",
    "    print(\"Yes\")\n",
    "else:\n",
    "    print(\"No\")"
   ],
   "metadata": {
    "collapsed": false,
    "ExecuteTime": {
     "end_time": "2024-04-24T16:21:15.923360Z",
     "start_time": "2024-04-24T16:21:15.919906Z"
    }
   },
   "id": "522d14f88c09251b",
   "execution_count": 20
  },
  {
   "cell_type": "code",
   "outputs": [
    {
     "name": "stdout",
     "output_type": "stream",
     "text": [
      "No\n"
     ]
    }
   ],
   "source": [
    "if \"John\" in my_dict.keys():\n",
    "    print(\"Yes\")\n",
    "else:\n",
    "    print(\"No\")"
   ],
   "metadata": {
    "collapsed": false,
    "ExecuteTime": {
     "end_time": "2024-04-24T16:21:15.989564Z",
     "start_time": "2024-04-24T16:21:15.984500Z"
    }
   },
   "id": "598c193ebf448439",
   "execution_count": 21
  },
  {
   "cell_type": "code",
   "outputs": [
    {
     "name": "stdout",
     "output_type": "stream",
     "text": [
      "No\n"
     ]
    }
   ],
   "source": [
    "if \"John\" in my_dict.items():\n",
    "    print(\"Yes\")\n",
    "else:\n",
    "    print(\"No\")"
   ],
   "metadata": {
    "collapsed": false,
    "ExecuteTime": {
     "end_time": "2024-04-24T16:21:16.079157Z",
     "start_time": "2024-04-24T16:21:16.073500Z"
    }
   },
   "id": "a36ace9fad500a0b",
   "execution_count": 22
  },
  {
   "cell_type": "code",
   "outputs": [
    {
     "name": "stdout",
     "output_type": "stream",
     "text": [
      "Yes\n"
     ]
    }
   ],
   "source": [
    "if (\"name\", \"John\") in my_dict.items():\n",
    "    print(\"Yes\")\n",
    "else:\n",
    "    print(\"No\")"
   ],
   "metadata": {
    "collapsed": false,
    "ExecuteTime": {
     "end_time": "2024-04-24T16:21:16.155388Z",
     "start_time": "2024-04-24T16:21:16.147378Z"
    }
   },
   "id": "cd0ecda2584ae8fe",
   "execution_count": 23
  },
  {
   "cell_type": "code",
   "outputs": [
    {
     "name": "stdout",
     "output_type": "stream",
     "text": [
      "No\n"
     ]
    }
   ],
   "source": [
    "if (\"name\", \"Jane\") in my_dict.items():\n",
    "    print(\"Yes\")\n",
    "else:\n",
    "    print(\"No\")"
   ],
   "metadata": {
    "collapsed": false,
    "ExecuteTime": {
     "end_time": "2024-04-24T16:21:16.223929Z",
     "start_time": "2024-04-24T16:21:16.217011Z"
    }
   },
   "id": "dc69d7f9f597836f",
   "execution_count": 24
  },
  {
   "cell_type": "markdown",
   "source": [
    "## Adding elements"
   ],
   "metadata": {
    "collapsed": false
   },
   "id": "e29a9c1143f5e0ae"
  },
  {
   "cell_type": "code",
   "outputs": [
    {
     "name": "stdout",
     "output_type": "stream",
     "text": [
      "{'name': 'John', 'age': 30, 'city': 'New York', 'email': ''}\n"
     ]
    }
   ],
   "source": [
    "my_dict = {\"name\": \"John\", \"age\": 30, \"city\": \"New York\", \"email\": \"\"}\n",
    "print(my_dict)"
   ],
   "metadata": {
    "collapsed": false,
    "ExecuteTime": {
     "end_time": "2024-04-24T16:21:16.316460Z",
     "start_time": "2024-04-24T16:21:16.309413Z"
    }
   },
   "id": "a4c8a44066e2afde",
   "execution_count": 25
  },
  {
   "cell_type": "code",
   "outputs": [
    {
     "name": "stdout",
     "output_type": "stream",
     "text": [
      "{'name': 'John', 'age': 30, 'city': 'New York', 'email': 'example@gmail.com'}\n"
     ]
    }
   ],
   "source": [
    "my_dict = {\"name\": \"John\", \"age\": 30, \"city\": \"New York\"}\n",
    "my_dict.update({\"email\": \"example@gmail.com\"})\n",
    "print(my_dict)"
   ],
   "metadata": {
    "collapsed": false,
    "ExecuteTime": {
     "end_time": "2024-04-24T16:21:16.427510Z",
     "start_time": "2024-04-24T16:21:16.421946Z"
    }
   },
   "id": "b4cc8415cd2d365b",
   "execution_count": 26
  },
  {
   "cell_type": "markdown",
   "source": [
    "## Removing elements"
   ],
   "metadata": {
    "collapsed": false
   },
   "id": "933d27806425fb14"
  },
  {
   "cell_type": "code",
   "outputs": [
    {
     "name": "stdout",
     "output_type": "stream",
     "text": [
      "{'name': 'John', 'city': 'New York'}\n"
     ]
    }
   ],
   "source": [
    "my_dict = {\"name\": \"John\", \"age\": 30, \"city\": \"New York\"}\n",
    "my_dict.pop(\"age\")\n",
    "print(my_dict)"
   ],
   "metadata": {
    "collapsed": false,
    "ExecuteTime": {
     "end_time": "2024-04-24T16:21:16.472724Z",
     "start_time": "2024-04-24T16:21:16.467218Z"
    }
   },
   "id": "2b3379f894e90ecb",
   "execution_count": 27
  },
  {
   "cell_type": "code",
   "outputs": [
    {
     "name": "stdout",
     "output_type": "stream",
     "text": [
      "{'name': 'John', 'age': 30}\n"
     ]
    }
   ],
   "source": [
    "my_dict = {\"name\": \"John\", \"age\": 30, \"city\": \"New York\"}\n",
    "my_dict.popitem()\n",
    "print(my_dict)"
   ],
   "metadata": {
    "collapsed": false,
    "ExecuteTime": {
     "end_time": "2024-04-24T16:21:16.510648Z",
     "start_time": "2024-04-24T16:21:16.504328Z"
    }
   },
   "id": "150b8b00e89b8df1",
   "execution_count": 28
  },
  {
   "cell_type": "code",
   "outputs": [
    {
     "name": "stdout",
     "output_type": "stream",
     "text": [
      "{'name': 'John', 'city': 'New York'}\n"
     ]
    }
   ],
   "source": [
    "my_dict = {\"name\": \"John\", \"age\": 30, \"city\": \"New York\"}\n",
    "del my_dict[\"age\"]\n",
    "print(my_dict)"
   ],
   "metadata": {
    "collapsed": false,
    "ExecuteTime": {
     "end_time": "2024-04-24T16:21:16.575060Z",
     "start_time": "2024-04-24T16:21:16.569399Z"
    }
   },
   "id": "8dcfb9647a54f407",
   "execution_count": 29
  },
  {
   "cell_type": "code",
   "outputs": [
    {
     "name": "stdout",
     "output_type": "stream",
     "text": [
      "{}\n"
     ]
    }
   ],
   "source": [
    "my_dict = {\"name\": \"John\", \"age\": 30, \"city\": \"New York\"}\n",
    "my_dict.clear()\n",
    "print(my_dict)"
   ],
   "metadata": {
    "collapsed": false,
    "ExecuteTime": {
     "end_time": "2024-04-24T16:21:16.602022Z",
     "start_time": "2024-04-24T16:21:16.597320Z"
    }
   },
   "id": "a033b3f3b3e85f74",
   "execution_count": 30
  },
  {
   "cell_type": "code",
   "outputs": [],
   "source": [
    "my_dict = {\"name\": \"John\", \"age\": 30, \"city\": \"New York\"}\n",
    "del my_dict\n",
    "# print(my_dict) # NameError: name 'my_dict' is not defined"
   ],
   "metadata": {
    "collapsed": false,
    "ExecuteTime": {
     "end_time": "2024-04-24T16:21:16.653594Z",
     "start_time": "2024-04-24T16:21:16.650673Z"
    }
   },
   "id": "10f19b0a98747108",
   "execution_count": 31
  },
  {
   "cell_type": "markdown",
   "source": [
    "## Copying a dictionary"
   ],
   "metadata": {
    "collapsed": false
   },
   "id": "1a8de8526fc94eb4"
  },
  {
   "cell_type": "code",
   "outputs": [
    {
     "name": "stdout",
     "output_type": "stream",
     "text": [
      "{'name': 'John', 'age': 30, 'city': 'New York'}\n"
     ]
    }
   ],
   "source": [
    "my_dict = {\"name\": \"John\", \"age\": 30, \"city\": \"New York\"}\n",
    "my_dict_copy = my_dict.copy()\n",
    "print(my_dict_copy)"
   ],
   "metadata": {
    "collapsed": false,
    "ExecuteTime": {
     "end_time": "2024-04-24T16:21:16.678429Z",
     "start_time": "2024-04-24T16:21:16.674842Z"
    }
   },
   "id": "7f71acc391b766f7",
   "execution_count": 32
  },
  {
   "cell_type": "code",
   "outputs": [
    {
     "name": "stdout",
     "output_type": "stream",
     "text": [
      "{'name': 'John', 'age': 30, 'city': 'New York'}\n"
     ]
    }
   ],
   "source": [
    "my_dict = {\"name\": \"John\", \"age\": 30, \"city\": \"New York\"}\n",
    "my_dict_copy = dict(my_dict)\n",
    "print(my_dict_copy)"
   ],
   "metadata": {
    "collapsed": false,
    "ExecuteTime": {
     "end_time": "2024-04-24T16:21:16.746023Z",
     "start_time": "2024-04-24T16:21:16.742045Z"
    }
   },
   "id": "ce3f4bc16f3dc807",
   "execution_count": 33
  },
  {
   "cell_type": "code",
   "outputs": [
    {
     "name": "stdout",
     "output_type": "stream",
     "text": [
      "{'name': 'John', 'age': 30, 'city': 'New York'}\n"
     ]
    }
   ],
   "source": [
    "my_dict = {\"name\": \"John\", \"age\": 30, \"city\": \"New York\"}\n",
    "my_dict_copy = my_dict\n",
    "print(my_dict_copy)"
   ],
   "metadata": {
    "collapsed": false,
    "ExecuteTime": {
     "end_time": "2024-04-24T16:21:16.765143Z",
     "start_time": "2024-04-24T16:21:16.761215Z"
    }
   },
   "id": "3d56cc99974126d8",
   "execution_count": 34
  },
  {
   "cell_type": "markdown",
   "source": [
    "## Nested dictionaries"
   ],
   "metadata": {
    "collapsed": false
   },
   "id": "607cf302c7b94166"
  },
  {
   "cell_type": "code",
   "outputs": [
    {
     "name": "stdout",
     "output_type": "stream",
     "text": [
      "{'name': 'John', 'age': 30, 'city': 'New York', 'children': {'child1': {'name': 'Jane', 'age': 5}, 'child2': {'name': 'John', 'age': 3}}}\n"
     ]
    }
   ],
   "source": [
    "my_dict = {\n",
    "    \"name\": \"John\",\n",
    "    \"age\": 30,\n",
    "    \"city\": \"New York\",\n",
    "    \"children\": {\n",
    "        \"child1\": {\n",
    "            \"name\": \"Jane\",\n",
    "            \"age\": 5\n",
    "        },\n",
    "        \"child2\": {\n",
    "            \"name\": \"John\",\n",
    "            \"age\": 3\n",
    "        }\n",
    "    }\n",
    "}\n",
    "print(my_dict)"
   ],
   "metadata": {
    "collapsed": false,
    "ExecuteTime": {
     "end_time": "2024-04-24T16:21:16.783834Z",
     "start_time": "2024-04-24T16:21:16.779882Z"
    }
   },
   "id": "3b401f3a74ee932f",
   "execution_count": 35
  },
  {
   "cell_type": "code",
   "outputs": [
    {
     "name": "stdout",
     "output_type": "stream",
     "text": [
      "Jane\n"
     ]
    }
   ],
   "source": [
    "my_dict = {\n",
    "    \"name\": \"John\",\n",
    "    \"age\": 30,\n",
    "    \"city\": \"New York\",\n",
    "    \"children\": {\n",
    "        \"child1\": {\n",
    "            \"name\": \"Jane\",\n",
    "            \"age\": 5\n",
    "        },\n",
    "        \"child2\": {\n",
    "            \"name\": \"John\",\n",
    "            \"age\": 3\n",
    "        }\n",
    "    }\n",
    "}\n",
    "print(my_dict[\"children\"][\"child1\"][\"name\"])"
   ],
   "metadata": {
    "collapsed": false,
    "ExecuteTime": {
     "end_time": "2024-04-24T16:21:16.848567Z",
     "start_time": "2024-04-24T16:21:16.844112Z"
    }
   },
   "id": "e2e429f08e43f47d",
   "execution_count": 36
  },
  {
   "cell_type": "markdown",
   "source": [
    "## Dictionary comprehension"
   ],
   "metadata": {
    "collapsed": false
   },
   "id": "b4abc486d82ecf74"
  },
  {
   "cell_type": "code",
   "outputs": [
    {
     "name": "stdout",
     "output_type": "stream",
     "text": [
      "{0: 0, 1: 1, 2: 4, 3: 9, 4: 16, 5: 25, 6: 36, 7: 49, 8: 64, 9: 81}\n"
     ]
    }
   ],
   "source": [
    "my_dict = {x: x**2 for x in range(10)}\n",
    "print(my_dict)"
   ],
   "metadata": {
    "collapsed": false,
    "ExecuteTime": {
     "end_time": "2024-04-24T16:21:16.912760Z",
     "start_time": "2024-04-24T16:21:16.909177Z"
    }
   },
   "id": "be066dcf650b8faa",
   "execution_count": 37
  },
  {
   "cell_type": "code",
   "outputs": [
    {
     "name": "stdout",
     "output_type": "stream",
     "text": [
      "{0: 0, 2: 4, 4: 16, 6: 36, 8: 64}\n"
     ]
    }
   ],
   "source": [
    "my_dict = {x: x**2 for x in range(10) if x % 2 == 0}\n",
    "print(my_dict)"
   ],
   "metadata": {
    "collapsed": false,
    "ExecuteTime": {
     "end_time": "2024-04-24T16:21:16.935312Z",
     "start_time": "2024-04-24T16:21:16.931775Z"
    }
   },
   "id": "342a2d1a186ebf5b",
   "execution_count": 38
  },
  {
   "cell_type": "markdown",
   "source": [],
   "metadata": {
    "collapsed": false
   },
   "id": "a3f4418cf4d9ca35"
  }
 ],
 "metadata": {
  "kernelspec": {
   "display_name": "Python 3",
   "language": "python",
   "name": "python3"
  },
  "language_info": {
   "codemirror_mode": {
    "name": "ipython",
    "version": 2
   },
   "file_extension": ".py",
   "mimetype": "text/x-python",
   "name": "python",
   "nbconvert_exporter": "python",
   "pygments_lexer": "ipython2",
   "version": "2.7.6"
  }
 },
 "nbformat": 4,
 "nbformat_minor": 5
}
