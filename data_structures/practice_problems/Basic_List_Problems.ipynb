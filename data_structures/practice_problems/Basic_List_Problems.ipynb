{
 "cells": [
  {
   "cell_type": "markdown",
   "source": [
    "# Basic List Problems in Python"
   ],
   "metadata": {
    "collapsed": false
   },
   "id": "13335d5783212928"
  },
  {
   "cell_type": "markdown",
   "source": [
    "## Problem 1: Given a list nums, find the sum of all elements in the list."
   ],
   "metadata": {
    "collapsed": false
   },
   "id": "b65647448e91394d"
  },
  {
   "cell_type": "code",
   "outputs": [
    {
     "name": "stdout",
     "output_type": "stream",
     "text": [
      "55\n"
     ]
    }
   ],
   "source": [
    "def sum_of_elements(nums):\n",
    "    return sum(nums)\n",
    "\n",
    "nums = [1, 2, 3, 4, 5, 6, 7, 8, 9, 10]\n",
    "print(sum_of_elements(nums))"
   ],
   "metadata": {
    "collapsed": false,
    "ExecuteTime": {
     "end_time": "2024-04-23T22:07:23.128893Z",
     "start_time": "2024-04-23T22:07:23.123539Z"
    }
   },
   "id": "297d49bde29e6f22",
   "execution_count": 1
  },
  {
   "cell_type": "markdown",
   "source": [
    "## Problem 2: Write a function to find the maximum element in a list."
   ],
   "metadata": {
    "collapsed": false
   },
   "id": "7475f494aa6c751a"
  },
  {
   "cell_type": "code",
   "outputs": [
    {
     "name": "stdout",
     "output_type": "stream",
     "text": [
      "10\n"
     ]
    }
   ],
   "source": [
    "def find_max_element(nums):\n",
    "    return max(nums)\n",
    "\n",
    "nums = [1, 2, 3, 4, 5, 6, 7, 8, 9, 10]\n",
    "print(find_max_element(nums))"
   ],
   "metadata": {
    "collapsed": false,
    "ExecuteTime": {
     "end_time": "2024-04-23T22:07:23.132386Z",
     "start_time": "2024-04-23T22:07:23.129993Z"
    }
   },
   "id": "c322bde41903f2ff",
   "execution_count": 2
  },
  {
   "cell_type": "markdown",
   "source": [
    "## Problem 3: Remove all duplicates from a list."
   ],
   "metadata": {
    "collapsed": false
   },
   "id": "3a548699fefa617c"
  },
  {
   "cell_type": "code",
   "outputs": [
    {
     "name": "stdout",
     "output_type": "stream",
     "text": [
      "[1, 2, 3, 4, 5, 6, 7, 10, 15]\n"
     ]
    }
   ],
   "source": [
    "# using set\n",
    "def remove_duplicates(nums):\n",
    "    return list(set(nums))\n",
    "\n",
    "nums = [1, 2, 3, 1, 2, 3, 4, 5, 6, 6, 7, 10, 15]\n",
    "print(remove_duplicates(nums))"
   ],
   "metadata": {
    "collapsed": false,
    "ExecuteTime": {
     "end_time": "2024-04-23T22:07:23.135944Z",
     "start_time": "2024-04-23T22:07:23.133147Z"
    }
   },
   "id": "928b56b8a821db15",
   "execution_count": 3
  },
  {
   "cell_type": "code",
   "outputs": [
    {
     "name": "stdout",
     "output_type": "stream",
     "text": [
      "[1, 2, 3, 4, 5, 6, 7, 10, 15]\n"
     ]
    }
   ],
   "source": [
    "# using dictionary\n",
    "def remove_duplicates(nums):\n",
    "    return list(dict.fromkeys(nums))\n",
    "\n",
    "nums = [1, 2, 3, 1, 2, 3, 4, 5, 6, 6, 7, 10, 15]\n",
    "print(remove_duplicates(nums))"
   ],
   "metadata": {
    "collapsed": false,
    "ExecuteTime": {
     "end_time": "2024-04-23T22:07:23.139685Z",
     "start_time": "2024-04-23T22:07:23.136798Z"
    }
   },
   "id": "ab2fa0fef7b80b4c",
   "execution_count": 4
  },
  {
   "cell_type": "code",
   "outputs": [
    {
     "data": {
      "text/plain": "{1: None,\n 2: None,\n 3: None,\n 4: None,\n 5: None,\n 6: None,\n 7: None,\n 10: None,\n 15: None}"
     },
     "execution_count": 5,
     "metadata": {},
     "output_type": "execute_result"
    }
   ],
   "source": [
    "nums = [1, 2, 3, 1, 2, 3, 4, 5, 6, 6, 7, 10, 15]\n",
    "dict.fromkeys(nums)"
   ],
   "metadata": {
    "collapsed": false,
    "ExecuteTime": {
     "end_time": "2024-04-23T22:07:23.145158Z",
     "start_time": "2024-04-23T22:07:23.141055Z"
    }
   },
   "id": "d867ff82670058bf",
   "execution_count": 5
  },
  {
   "cell_type": "code",
   "outputs": [
    {
     "name": "stdout",
     "output_type": "stream",
     "text": [
      "[1, 2, 3, 4, 5, 6, 7, 10, 15]\n"
     ]
    }
   ],
   "source": [
    "# using list comprehension\n",
    "def remove_duplicates(nums):\n",
    "    ans = []\n",
    "    [ans.append(x) for x in nums if x not in ans]\n",
    "    return ans\n",
    "\n",
    "nums = [1, 2, 3, 1, 2, 3, 4, 5, 6, 6, 7, 10, 15]\n",
    "print(remove_duplicates(nums))"
   ],
   "metadata": {
    "collapsed": false,
    "ExecuteTime": {
     "end_time": "2024-04-23T22:07:23.148740Z",
     "start_time": "2024-04-23T22:07:23.146299Z"
    }
   },
   "id": "e58fccc2618945bf",
   "execution_count": 6
  },
  {
   "cell_type": "markdown",
   "source": [
    "## Problem 4: Count the occurrences of an element in a list."
   ],
   "metadata": {
    "collapsed": false
   },
   "id": "f891143d4bd79618"
  },
  {
   "cell_type": "code",
   "outputs": [
    {
     "name": "stdout",
     "output_type": "stream",
     "text": [
      "2\n"
     ]
    }
   ],
   "source": [
    "# using count()\n",
    "def count_occurrences(nums: list, target: int) -> int:\n",
    "    return nums.count(target)\n",
    "\n",
    "nums = [1, 2, 3, 1, 2, 3, 4, 5, 6, 6, 7, 10, 15]\n",
    "print(count_occurrences(nums, target=6))"
   ],
   "metadata": {
    "collapsed": false,
    "ExecuteTime": {
     "end_time": "2024-04-23T22:07:23.160965Z",
     "start_time": "2024-04-23T22:07:23.158345Z"
    }
   },
   "id": "7ecf2011fb7443e4",
   "execution_count": 7
  },
  {
   "cell_type": "code",
   "outputs": [
    {
     "name": "stdout",
     "output_type": "stream",
     "text": [
      "2\n"
     ]
    }
   ],
   "source": [
    "# using list comprehension\n",
    "def count_occurrences(nums: list, target: int) -> int:\n",
    "    x = [i for i in nums if i == target]\n",
    "    return len(x)\n",
    "\n",
    "nums = [1, 2, 3, 1, 2, 3, 4, 5, 6, 6, 7, 10, 15]\n",
    "print(count_occurrences(nums, target=6))"
   ],
   "metadata": {
    "collapsed": false,
    "ExecuteTime": {
     "end_time": "2024-04-23T22:07:23.166141Z",
     "start_time": "2024-04-23T22:07:23.162955Z"
    }
   },
   "id": "9aebb27027e4d797",
   "execution_count": 8
  },
  {
   "cell_type": "code",
   "outputs": [
    {
     "name": "stdout",
     "output_type": "stream",
     "text": [
      "3\n"
     ]
    }
   ],
   "source": [
    "# using counter()\n",
    "from collections import Counter\n",
    "\n",
    "def count_occurrences(nums: list, target: int) -> int:\n",
    "    counter = Counter(nums)\n",
    "    return counter[target]\n",
    "\n",
    "nums = [1, 2, 3, 1, 2, 3, 4, 5, 6, 6, 6, 7, 10, 15]\n",
    "print(count_occurrences(nums, target=6))"
   ],
   "metadata": {
    "collapsed": false,
    "ExecuteTime": {
     "end_time": "2024-04-23T22:07:23.173470Z",
     "start_time": "2024-04-23T22:07:23.169157Z"
    }
   },
   "id": "717e100fdc458e35",
   "execution_count": 9
  },
  {
   "cell_type": "markdown",
   "source": [
    "## Problem 5: Reverse a list in-place (modify the original list)."
   ],
   "metadata": {
    "collapsed": false
   },
   "id": "e8ac94b5b1bf48cf"
  },
  {
   "cell_type": "code",
   "outputs": [
    {
     "name": "stdout",
     "output_type": "stream",
     "text": [
      "[15, 10, 7, 6, 6, 6, 5, 4, 3, 2, 1, 3, 2, 1]\n"
     ]
    }
   ],
   "source": [
    "# using reverse()\n",
    "def reverse_list(nums: list) -> list:\n",
    "    nums.reverse()\n",
    "    return nums\n",
    "\n",
    "nums = [1, 2, 3, 1, 2, 3, 4, 5, 6, 6, 6, 7, 10, 15]\n",
    "print(reverse_list(nums))"
   ],
   "metadata": {
    "collapsed": false,
    "ExecuteTime": {
     "end_time": "2024-04-23T22:07:23.181081Z",
     "start_time": "2024-04-23T22:07:23.175763Z"
    }
   },
   "id": "fd58e0d442e5d886",
   "execution_count": 10
  },
  {
   "cell_type": "code",
   "outputs": [
    {
     "name": "stdout",
     "output_type": "stream",
     "text": [
      "[15, 10, 7, 6, 6, 6, 5, 4, 3, 2, 1, 3, 2, 1]\n"
     ]
    }
   ],
   "source": [
    "# using reversed()\n",
    "def reverse_list(nums: list) -> list:\n",
    "    return list(reversed(nums))\n",
    "\n",
    "nums = [1, 2, 3, 1, 2, 3, 4, 5, 6, 6, 6, 7, 10, 15]\n",
    "print(reverse_list(nums))"
   ],
   "metadata": {
    "collapsed": false,
    "ExecuteTime": {
     "end_time": "2024-04-23T22:07:23.223674Z",
     "start_time": "2024-04-23T22:07:23.220612Z"
    }
   },
   "id": "81b25181ce2b78bf",
   "execution_count": 11
  }
 ],
 "metadata": {
  "kernelspec": {
   "display_name": "Python 3",
   "language": "python",
   "name": "python3"
  },
  "language_info": {
   "codemirror_mode": {
    "name": "ipython",
    "version": 2
   },
   "file_extension": ".py",
   "mimetype": "text/x-python",
   "name": "python",
   "nbconvert_exporter": "python",
   "pygments_lexer": "ipython2",
   "version": "2.7.6"
  }
 },
 "nbformat": 4,
 "nbformat_minor": 5
}
