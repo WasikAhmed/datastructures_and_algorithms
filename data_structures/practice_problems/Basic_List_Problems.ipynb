{
 "cells": [
  {
   "cell_type": "markdown",
   "source": [
    "# Basic List Problems in Python"
   ],
   "metadata": {
    "collapsed": false
   },
   "id": "13335d5783212928"
  },
  {
   "cell_type": "markdown",
   "source": [
    "## Problem 1: Given a list nums, find the sum of all elements in the list."
   ],
   "metadata": {
    "collapsed": false
   },
   "id": "b65647448e91394d"
  },
  {
   "cell_type": "code",
   "outputs": [
    {
     "name": "stdout",
     "output_type": "stream",
     "text": [
      "55\n"
     ]
    }
   ],
   "source": [
    "def sum_of_elements(nums):\n",
    "    return sum(nums)\n",
    "\n",
    "nums = [1, 2, 3, 4, 5, 6, 7, 8, 9, 10]\n",
    "print(sum_of_elements(nums))"
   ],
   "metadata": {
    "collapsed": false,
    "ExecuteTime": {
     "end_time": "2024-04-24T14:40:29.715946Z",
     "start_time": "2024-04-24T14:40:29.708944Z"
    }
   },
   "id": "297d49bde29e6f22",
   "execution_count": 1
  },
  {
   "cell_type": "markdown",
   "source": [
    "## Problem 2: Write a function to find the maximum element in a list."
   ],
   "metadata": {
    "collapsed": false
   },
   "id": "7475f494aa6c751a"
  },
  {
   "cell_type": "code",
   "outputs": [
    {
     "name": "stdout",
     "output_type": "stream",
     "text": [
      "10\n"
     ]
    }
   ],
   "source": [
    "def find_max_element(nums):\n",
    "    return max(nums)\n",
    "\n",
    "nums = [1, 2, 3, 4, 5, 6, 7, 8, 9, 10]\n",
    "print(find_max_element(nums))"
   ],
   "metadata": {
    "collapsed": false,
    "ExecuteTime": {
     "end_time": "2024-04-24T14:40:29.740511Z",
     "start_time": "2024-04-24T14:40:29.735255Z"
    }
   },
   "id": "c322bde41903f2ff",
   "execution_count": 2
  },
  {
   "cell_type": "markdown",
   "source": [
    "## Problem 3: Remove all duplicates from a list."
   ],
   "metadata": {
    "collapsed": false
   },
   "id": "3a548699fefa617c"
  },
  {
   "cell_type": "code",
   "outputs": [
    {
     "name": "stdout",
     "output_type": "stream",
     "text": [
      "[1, 2, 3, 4, 5, 6, 7, 10, 15]\n"
     ]
    }
   ],
   "source": [
    "# using set\n",
    "def remove_duplicates(nums):\n",
    "    return list(set(nums))\n",
    "\n",
    "nums = [1, 2, 3, 1, 2, 3, 4, 5, 6, 6, 7, 10, 15]\n",
    "print(remove_duplicates(nums))"
   ],
   "metadata": {
    "collapsed": false,
    "ExecuteTime": {
     "end_time": "2024-04-24T14:40:29.747008Z",
     "start_time": "2024-04-24T14:40:29.742887Z"
    }
   },
   "id": "928b56b8a821db15",
   "execution_count": 3
  },
  {
   "cell_type": "code",
   "outputs": [
    {
     "name": "stdout",
     "output_type": "stream",
     "text": [
      "[1, 2, 3, 4, 5, 6, 7, 10, 15]\n"
     ]
    }
   ],
   "source": [
    "# using dictionary\n",
    "def remove_duplicates(nums):\n",
    "    return list(dict.fromkeys(nums))\n",
    "\n",
    "nums = [1, 2, 3, 1, 2, 3, 4, 5, 6, 6, 7, 10, 15]\n",
    "print(remove_duplicates(nums))"
   ],
   "metadata": {
    "collapsed": false,
    "ExecuteTime": {
     "end_time": "2024-04-24T14:40:29.753950Z",
     "start_time": "2024-04-24T14:40:29.750349Z"
    }
   },
   "id": "ab2fa0fef7b80b4c",
   "execution_count": 4
  },
  {
   "cell_type": "code",
   "outputs": [
    {
     "data": {
      "text/plain": "{1: None,\n 2: None,\n 3: None,\n 4: None,\n 5: None,\n 6: None,\n 7: None,\n 10: None,\n 15: None}"
     },
     "execution_count": 5,
     "metadata": {},
     "output_type": "execute_result"
    }
   ],
   "source": [
    "nums = [1, 2, 3, 1, 2, 3, 4, 5, 6, 6, 7, 10, 15]\n",
    "dict.fromkeys(nums)"
   ],
   "metadata": {
    "collapsed": false,
    "ExecuteTime": {
     "end_time": "2024-04-24T14:40:29.762411Z",
     "start_time": "2024-04-24T14:40:29.756860Z"
    }
   },
   "id": "d867ff82670058bf",
   "execution_count": 5
  },
  {
   "cell_type": "code",
   "outputs": [
    {
     "name": "stdout",
     "output_type": "stream",
     "text": [
      "[1, 2, 3, 4, 5, 6, 7, 10, 15]\n"
     ]
    }
   ],
   "source": [
    "# using list comprehension\n",
    "def remove_duplicates(nums):\n",
    "    ans = []\n",
    "    [ans.append(x) for x in nums if x not in ans]\n",
    "    return ans\n",
    "\n",
    "nums = [1, 2, 3, 1, 2, 3, 4, 5, 6, 6, 7, 10, 15]\n",
    "print(remove_duplicates(nums))"
   ],
   "metadata": {
    "collapsed": false,
    "ExecuteTime": {
     "end_time": "2024-04-24T14:40:29.768093Z",
     "start_time": "2024-04-24T14:40:29.763821Z"
    }
   },
   "id": "e58fccc2618945bf",
   "execution_count": 6
  },
  {
   "cell_type": "markdown",
   "source": [
    "## Problem 4: Count the occurrences of an element in a list."
   ],
   "metadata": {
    "collapsed": false
   },
   "id": "f891143d4bd79618"
  },
  {
   "cell_type": "code",
   "outputs": [
    {
     "name": "stdout",
     "output_type": "stream",
     "text": [
      "2\n"
     ]
    }
   ],
   "source": [
    "# using count()\n",
    "def count_occurrences(nums: list, target: int) -> int:\n",
    "    return nums.count(target)\n",
    "\n",
    "nums = [1, 2, 3, 1, 2, 3, 4, 5, 6, 6, 7, 10, 15]\n",
    "print(count_occurrences(nums, target=6))"
   ],
   "metadata": {
    "collapsed": false,
    "ExecuteTime": {
     "end_time": "2024-04-24T14:40:29.774501Z",
     "start_time": "2024-04-24T14:40:29.771193Z"
    }
   },
   "id": "7ecf2011fb7443e4",
   "execution_count": 7
  },
  {
   "cell_type": "code",
   "outputs": [
    {
     "name": "stdout",
     "output_type": "stream",
     "text": [
      "2\n"
     ]
    }
   ],
   "source": [
    "# using list comprehension\n",
    "def count_occurrences(nums: list, target: int) -> int:\n",
    "    x = [i for i in nums if i == target]\n",
    "    return len(x)\n",
    "\n",
    "nums = [1, 2, 3, 1, 2, 3, 4, 5, 6, 6, 7, 10, 15]\n",
    "print(count_occurrences(nums, target=6))"
   ],
   "metadata": {
    "collapsed": false,
    "ExecuteTime": {
     "end_time": "2024-04-24T14:40:29.778080Z",
     "start_time": "2024-04-24T14:40:29.775324Z"
    }
   },
   "id": "9aebb27027e4d797",
   "execution_count": 8
  },
  {
   "cell_type": "code",
   "outputs": [
    {
     "name": "stdout",
     "output_type": "stream",
     "text": [
      "3\n"
     ]
    }
   ],
   "source": [
    "# using counter()\n",
    "from collections import Counter\n",
    "\n",
    "def count_occurrences(nums: list, target: int) -> int:\n",
    "    counter = Counter(nums)\n",
    "    return counter[target]\n",
    "\n",
    "nums = [1, 2, 3, 1, 2, 3, 4, 5, 6, 6, 6, 7, 10, 15]\n",
    "print(count_occurrences(nums, target=6))"
   ],
   "metadata": {
    "collapsed": false,
    "ExecuteTime": {
     "end_time": "2024-04-24T14:40:29.799878Z",
     "start_time": "2024-04-24T14:40:29.796818Z"
    }
   },
   "id": "717e100fdc458e35",
   "execution_count": 9
  },
  {
   "cell_type": "markdown",
   "source": [
    "## Problem 5: Reverse a list in-place (modify the original list)."
   ],
   "metadata": {
    "collapsed": false
   },
   "id": "e8ac94b5b1bf48cf"
  },
  {
   "cell_type": "code",
   "outputs": [
    {
     "name": "stdout",
     "output_type": "stream",
     "text": [
      "[15, 10, 7, 6, 6, 6, 5, 4, 3, 2, 1, 3, 2, 1]\n"
     ]
    }
   ],
   "source": [
    "# using reverse()\n",
    "def reverse_list(nums: list) -> list:\n",
    "    nums.reverse()\n",
    "    return nums\n",
    "\n",
    "nums = [1, 2, 3, 1, 2, 3, 4, 5, 6, 6, 6, 7, 10, 15]\n",
    "print(reverse_list(nums))"
   ],
   "metadata": {
    "collapsed": false,
    "ExecuteTime": {
     "end_time": "2024-04-24T14:40:29.805729Z",
     "start_time": "2024-04-24T14:40:29.802642Z"
    }
   },
   "id": "fd58e0d442e5d886",
   "execution_count": 10
  },
  {
   "cell_type": "code",
   "outputs": [
    {
     "name": "stdout",
     "output_type": "stream",
     "text": [
      "[15, 10, 7, 6, 6, 6, 5, 4, 3, 2, 1, 3, 2, 1]\n"
     ]
    }
   ],
   "source": [
    "# using reversed()\n",
    "def reverse_list(nums: list) -> list:\n",
    "    return list(reversed(nums))\n",
    "\n",
    "nums = [1, 2, 3, 1, 2, 3, 4, 5, 6, 6, 6, 7, 10, 15]\n",
    "print(reverse_list(nums))"
   ],
   "metadata": {
    "collapsed": false,
    "ExecuteTime": {
     "end_time": "2024-04-24T14:40:29.817605Z",
     "start_time": "2024-04-24T14:40:29.815408Z"
    }
   },
   "id": "81b25181ce2b78bf",
   "execution_count": 11
  },
  {
   "cell_type": "markdown",
   "source": [
    "## Problem 6: Create a new list containing only the even numbers from the original list."
   ],
   "metadata": {
    "collapsed": false
   },
   "id": "d4d29ccad5abe52c"
  },
  {
   "cell_type": "code",
   "outputs": [
    {
     "name": "stdout",
     "output_type": "stream",
     "text": [
      "[2, 2, 4, 6, 6, 6, 10]\n"
     ]
    }
   ],
   "source": [
    "# using list comprehension\n",
    "def get_evens(nums: list) -> list:\n",
    "    return [x for x in nums if x%2 == 0]\n",
    "    \n",
    "nums = [1, 2, 3, 1, 2, 3, 4, 5, 6, 6, 6, 7, 10, 15]\n",
    "print(get_evens(nums))"
   ],
   "metadata": {
    "collapsed": false,
    "ExecuteTime": {
     "end_time": "2024-04-24T14:40:29.836289Z",
     "start_time": "2024-04-24T14:40:29.831738Z"
    }
   },
   "id": "ee23f5d857d1f998",
   "execution_count": 12
  },
  {
   "cell_type": "markdown",
   "source": [
    "## Problem 7: Sort a list in ascending and descending order."
   ],
   "metadata": {
    "collapsed": false
   },
   "id": "ed718c3e6294eba4"
  },
  {
   "cell_type": "code",
   "outputs": [
    {
     "name": "stdout",
     "output_type": "stream",
     "text": [
      "[10, 15, 25, 30, 50, 70, 100]\n",
      "[100, 70, 50, 30, 25, 15, 10]\n"
     ]
    }
   ],
   "source": [
    "# using sorted()\n",
    "def sort_ascending(nums: list) -> list:\n",
    "    return sorted(nums)\n",
    "\n",
    "def sort_descending(nums: list) -> list:\n",
    "    return sorted(nums, reverse=True)\n",
    "\n",
    "nums = [10, 50, 100, 25, 30, 15, 70]\n",
    "print(sort_ascending(nums))\n",
    "print(sort_descending(nums))"
   ],
   "metadata": {
    "collapsed": false,
    "ExecuteTime": {
     "end_time": "2024-04-24T14:40:29.889952Z",
     "start_time": "2024-04-24T14:40:29.886080Z"
    }
   },
   "id": "d0b729bd10e67017",
   "execution_count": 13
  },
  {
   "cell_type": "markdown",
   "source": [
    "## Problem 8: Check if all elements in the list are positive."
   ],
   "metadata": {
    "collapsed": false
   },
   "id": "1d0ccf09e904d577"
  },
  {
   "cell_type": "code",
   "outputs": [
    {
     "name": "stdout",
     "output_type": "stream",
     "text": [
      "True\n",
      "False\n"
     ]
    }
   ],
   "source": [
    "def check_positive(nums: list) -> bool:\n",
    "    return all(x>0 for x in nums)\n",
    "\n",
    "nums = [10, 50, 100, 25, 30, 15, 70]\n",
    "print(check_positive(nums))\n",
    "nums = [10, 50, 100, 25, 30, 15, 70, 0] # The number zero is neither positive nor negative.\n",
    "print(check_positive(nums))"
   ],
   "metadata": {
    "collapsed": false,
    "ExecuteTime": {
     "end_time": "2024-04-24T14:40:29.896409Z",
     "start_time": "2024-04-24T14:40:29.892150Z"
    }
   },
   "id": "cc62c06e11b5e0a4",
   "execution_count": 14
  },
  {
   "cell_type": "markdown",
   "source": [
    "## Problem 9: Find the second-largest element in a list."
   ],
   "metadata": {
    "collapsed": false
   },
   "id": "8bd32bd46a1c9ab9"
  },
  {
   "cell_type": "code",
   "outputs": [
    {
     "name": "stdout",
     "output_type": "stream",
     "text": [
      "70\n"
     ]
    }
   ],
   "source": [
    "def find_second_largest(nums: list) -> int:\n",
    "    return sorted(nums)[-2]\n",
    "\n",
    "nums = [10, 50, 100, 25, 30, 15, 70]\n",
    "print(find_second_largest(nums))"
   ],
   "metadata": {
    "collapsed": false,
    "ExecuteTime": {
     "end_time": "2024-04-24T14:40:29.903495Z",
     "start_time": "2024-04-24T14:40:29.900436Z"
    }
   },
   "id": "58a8de44f2248674",
   "execution_count": 15
  },
  {
   "cell_type": "markdown",
   "source": [
    "## Problem 10: Remove all occurrences of a specific element from the list."
   ],
   "metadata": {
    "collapsed": false
   },
   "id": "3c95c29fed14a3c7"
  },
  {
   "cell_type": "code",
   "outputs": [
    {
     "name": "stdout",
     "output_type": "stream",
     "text": [
      "[1, 2, 3, 4, 6, 6]\n"
     ]
    }
   ],
   "source": [
    "# using list comprehension\n",
    "def remove_all_occurrences(nums: list, val: int) -> list:\n",
    "    return [x for x in nums if x != val]\n",
    "\n",
    "nums = [1, 2, 3, 4, 5, 5, 5, 5, 5, 6, 6]\n",
    "print(remove_all_occurrences(nums, 5))"
   ],
   "metadata": {
    "collapsed": false,
    "ExecuteTime": {
     "end_time": "2024-04-24T14:40:29.911329Z",
     "start_time": "2024-04-24T14:40:29.907553Z"
    }
   },
   "id": "26d510c96cde6de8",
   "execution_count": 16
  },
  {
   "cell_type": "code",
   "outputs": [
    {
     "name": "stdout",
     "output_type": "stream",
     "text": [
      "[1, 2, 3, 4, 6, 6]\n"
     ]
    }
   ],
   "source": [
    "# using remove()\n",
    "def remove_all_occurrences(nums: list, val: int) -> list:\n",
    "    count = nums.count(val)\n",
    "    for i in range(count):\n",
    "        nums.remove(val)\n",
    "    return nums\n",
    "\n",
    "nums = [1, 2, 3, 4, 5, 5, 5, 5, 5, 6, 6]\n",
    "print(remove_all_occurrences(nums, 5))"
   ],
   "metadata": {
    "collapsed": false,
    "ExecuteTime": {
     "end_time": "2024-04-24T14:40:29.917121Z",
     "start_time": "2024-04-24T14:40:29.912812Z"
    }
   },
   "id": "a0136e7886993a53",
   "execution_count": 17
  }
 ],
 "metadata": {
  "kernelspec": {
   "display_name": "Python 3",
   "language": "python",
   "name": "python3"
  },
  "language_info": {
   "codemirror_mode": {
    "name": "ipython",
    "version": 2
   },
   "file_extension": ".py",
   "mimetype": "text/x-python",
   "name": "python",
   "nbconvert_exporter": "python",
   "pygments_lexer": "ipython2",
   "version": "2.7.6"
  }
 },
 "nbformat": 4,
 "nbformat_minor": 5
}
