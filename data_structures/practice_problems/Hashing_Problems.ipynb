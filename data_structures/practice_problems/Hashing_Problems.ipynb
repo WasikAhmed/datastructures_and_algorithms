{
 "cells": [
  {
   "cell_type": "markdown",
   "source": [
    "# Hashing Problems"
   ],
   "metadata": {
    "collapsed": false
   },
   "id": "df88a92d94db489e"
  },
  {
   "cell_type": "markdown",
   "source": [
    "## Problem 1: Find pairs with the given sum in an array\n",
    "**Given an unsorted integer array, find pairs with the given sum in it.**\n",
    "Input:   \n",
    "nums = [8, 7, 2, 5, 3, 1] target = 10  \n",
    "Output:   \n",
    "[(8, 2), (7, 3)]"
   ],
   "metadata": {
    "collapsed": false
   },
   "id": "8e126c8f8d477f33"
  },
  {
   "cell_type": "code",
   "outputs": [
    {
     "data": {
      "text/plain": "[(8, 2), (7, 3)]"
     },
     "execution_count": 1,
     "metadata": {},
     "output_type": "execute_result"
    }
   ],
   "source": [
    "def find_pairs(nums: list, target: int) -> list:\n",
    "    d = {}\n",
    "    pairs = []\n",
    "    for index, value in enumerate(nums):\n",
    "        if target-value in d:\n",
    "            pairs.append((nums[d.get(target-value)], nums[index]))\n",
    "        d[value] = index\n",
    "    return pairs\n",
    "nums = [8, 7, 2, 5, 3, 1] \n",
    "target = 10\n",
    "find_pairs(nums, target)"
   ],
   "metadata": {
    "collapsed": false,
    "ExecuteTime": {
     "end_time": "2024-04-26T17:17:46.532744Z",
     "start_time": "2024-04-26T17:17:46.520557Z"
    }
   },
   "id": "8e37dfe57f62ded1",
   "execution_count": 1
  },
  {
   "cell_type": "markdown",
   "source": [
    "## Problem 2: Check if a subarray with 0 sum exists or not\n",
    "**Given an integer array, check if it contains a subarray having zero-sum.**\n",
    "Input:  [ 3, 4, -7, 3, 1, 3, 1, -4, -2, -2 ]  \n",
    "Output: True  \n",
    "The subarrays with a sum of 0 are:   \n",
    "{ 3, 4, -7 } \n",
    "{ 4, -7, 3 } \n",
    "{ -7, 3, 1, 3 } \n",
    "{ 3, 1, -4 } \n",
    "{ 3, 1, 3, 1, -4, -2, -2 } \n",
    "{ 3, 4, -7, 3, 1, 3, 1, -4, -2, -2 }"
   ],
   "metadata": {
    "collapsed": false
   },
   "id": "aeda1f00f8b3d139"
  },
  {
   "cell_type": "code",
   "outputs": [
    {
     "data": {
      "text/plain": "True"
     },
     "execution_count": 2,
     "metadata": {},
     "output_type": "execute_result"
    }
   ],
   "source": [
    "def check_zero_sum_subarray(nums: list) -> bool:\n",
    "    s = set()\n",
    "    total = 0\n",
    "    s.add(0)\n",
    "    \n",
    "    for i in nums:\n",
    "        total += i\n",
    "    \n",
    "        if total in s:\n",
    "            return True\n",
    "        \n",
    "        s.add(total)\n",
    "    return False\n",
    "    \n",
    "nums = [ 3, 4, -7, 3, 1, 3, 1, -4, -2, -2 ]\n",
    "# nums = [1, 2, 3, 5]\n",
    "# nums = [1, 5, 10, -6, -4, -6]\n",
    "check_zero_sum_subarray(nums)"
   ],
   "metadata": {
    "collapsed": false,
    "ExecuteTime": {
     "end_time": "2024-04-26T17:17:46.539837Z",
     "start_time": "2024-04-26T17:17:46.534577Z"
    }
   },
   "id": "44bd4591f1a5ceda",
   "execution_count": 2
  }
 ],
 "metadata": {
  "kernelspec": {
   "display_name": "Python 3",
   "language": "python",
   "name": "python3"
  },
  "language_info": {
   "codemirror_mode": {
    "name": "ipython",
    "version": 2
   },
   "file_extension": ".py",
   "mimetype": "text/x-python",
   "name": "python",
   "nbconvert_exporter": "python",
   "pygments_lexer": "ipython2",
   "version": "2.7.6"
  }
 },
 "nbformat": 4,
 "nbformat_minor": 5
}
