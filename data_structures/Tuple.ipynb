{
 "cells": [
  {
   "cell_type": "markdown",
   "source": [
    "# Tuple in Python"
   ],
   "metadata": {
    "collapsed": false
   },
   "id": "ff8c13b5338fa0cb"
  },
  {
   "cell_type": "markdown",
   "source": [
    "**Tuple** is a collection of items which is ordered and unchangeable. In Python tuples are written with round brackets.\n",
    "A tuple is a collection which is ordered and unchangeable. In Python tuples are written with round brackets.\n",
    "Tuple items are indexed, the first item has index [0], the second item has index [1] etc.\n",
    "Tuple items are ordered, meaning that the items have a defined order, and that order will not change.\n",
    "Tuple items are unchangeable, meaning that we cannot change, add or remove items after the tuple has been created.\n",
    "Once a tuple is created, you cannot change its values. Tuples are unchangeable, or immutable as it also is called.\n",
    "But there is a workaround. You can convert the tuple into a list, change the list, and convert the list back into a tuple."
   ],
   "metadata": {
    "collapsed": false
   },
   "id": "9332ee8b11aacd58"
  },
  {
   "cell_type": "markdown",
   "source": [
    "## Tuple Methods\n",
    "\n",
    "Python has two built-in methods that you can use on tuples.\n",
    "**count()**\tReturns the number of times a specified value occurs in a tuple\n",
    "**index()**\tSearches the tuple for a specified value and returns the position of where it was found"
   ],
   "metadata": {
    "collapsed": false
   },
   "id": "80f7aee957443bd6"
  },
  {
   "cell_type": "code",
   "outputs": [
    {
     "name": "stdout",
     "output_type": "stream",
     "text": [
      "2\n",
      "3\n"
     ]
    }
   ],
   "source": [
    "thistuple = (1, 3, 7, 8, 7, 5, 4, 6, 8, 5)\n",
    "x = thistuple.count(5)\n",
    "print(x)\n",
    "x = thistuple.index(8)\n",
    "print(x)"
   ],
   "metadata": {
    "collapsed": false,
    "ExecuteTime": {
     "end_time": "2024-04-27T17:29:30.124407Z",
     "start_time": "2024-04-27T17:29:30.119111Z"
    }
   },
   "id": "154335b6f7fe8701",
   "execution_count": 1
  },
  {
   "cell_type": "markdown",
   "source": [
    "## Tuple Creation"
   ],
   "metadata": {
    "collapsed": false
   },
   "id": "8f1079974f7d63f8"
  },
  {
   "cell_type": "code",
   "outputs": [
    {
     "name": "stdout",
     "output_type": "stream",
     "text": [
      "('apple', 'banana', 'cherry')\n"
     ]
    }
   ],
   "source": [
    "# Create a Tuple:\n",
    "my_tuple = (\"apple\", \"banana\", \"cherry\")\n",
    "print(my_tuple)"
   ],
   "metadata": {
    "collapsed": false,
    "ExecuteTime": {
     "end_time": "2024-04-27T17:29:30.165152Z",
     "start_time": "2024-04-27T17:29:30.162743Z"
    }
   },
   "id": "37d3406e0904e10",
   "execution_count": 2
  },
  {
   "cell_type": "code",
   "outputs": [
    {
     "name": "stdout",
     "output_type": "stream",
     "text": [
      "<class 'tuple'>\n",
      "<class 'str'>\n"
     ]
    }
   ],
   "source": [
    "# Tuple with one item\n",
    "# One item tuple, remember the comma:\n",
    "thistuple = (\"apple\",)\n",
    "print(type(thistuple))\n",
    "#NOT a tuple\n",
    "thistuple = (\"apple\")\n",
    "print(type(thistuple))"
   ],
   "metadata": {
    "collapsed": false,
    "ExecuteTime": {
     "end_time": "2024-04-27T17:29:30.176339Z",
     "start_time": "2024-04-27T17:29:30.174104Z"
    }
   },
   "id": "f77016f862f03753",
   "execution_count": 3
  },
  {
   "cell_type": "code",
   "outputs": [
    {
     "name": "stdout",
     "output_type": "stream",
     "text": [
      "('apple', 'banana', 'cherry', 1, 2, 3)\n"
     ]
    }
   ],
   "source": [
    "# Tuple with different data types\n",
    "tuple1 = (\"apple\", \"banana\", \"cherry\", 1, 2, 3)\n",
    "print(tuple1)"
   ],
   "metadata": {
    "collapsed": false,
    "ExecuteTime": {
     "end_time": "2024-04-27T17:29:30.192481Z",
     "start_time": "2024-04-27T17:29:30.190306Z"
    }
   },
   "id": "7659e1850836553a",
   "execution_count": 4
  },
  {
   "cell_type": "code",
   "outputs": [
    {
     "name": "stdout",
     "output_type": "stream",
     "text": [
      "('apple', 'banana', 'cherry')\n"
     ]
    }
   ],
   "source": [
    "# Using tuple() constructor to create a tuple\n",
    "thistuple = tuple((\"apple\", \"banana\", \"cherry\")) # note the double round-brackets\n",
    "print(thistuple)"
   ],
   "metadata": {
    "collapsed": false,
    "ExecuteTime": {
     "end_time": "2024-04-27T17:29:30.214940Z",
     "start_time": "2024-04-27T17:29:30.212655Z"
    }
   },
   "id": "57110300904d3ee3",
   "execution_count": 5
  },
  {
   "cell_type": "markdown",
   "source": [
    "## Access Tuple Items"
   ],
   "metadata": {
    "collapsed": false
   },
   "id": "ab28e9c0e64aa338"
  },
  {
   "cell_type": "code",
   "outputs": [
    {
     "name": "stdout",
     "output_type": "stream",
     "text": [
      "banana\n"
     ]
    }
   ],
   "source": [
    "# Tuple items can be accessed by referring to the index number, inside square brackets:\n",
    "thistuple = (\"apple\", \"banana\", \"cherry\")\n",
    "print(thistuple[1])"
   ],
   "metadata": {
    "collapsed": false,
    "ExecuteTime": {
     "end_time": "2024-04-27T17:29:30.218928Z",
     "start_time": "2024-04-27T17:29:30.217094Z"
    }
   },
   "id": "554644fe9ac09fbe",
   "execution_count": 6
  },
  {
   "cell_type": "markdown",
   "source": [
    "## Negative Indexing"
   ],
   "metadata": {
    "collapsed": false
   },
   "id": "ff5b4d562d5d62c2"
  },
  {
   "cell_type": "code",
   "outputs": [
    {
     "name": "stdout",
     "output_type": "stream",
     "text": [
      "cherry\n"
     ]
    }
   ],
   "source": [
    "# Negative indexing means beginning from the end, -1 refers to the last item, -2 refers to the second last item etc.\n",
    "thistuple = (\"apple\", \"banana\", \"cherry\")\n",
    "print(thistuple[-1])"
   ],
   "metadata": {
    "collapsed": false,
    "ExecuteTime": {
     "end_time": "2024-04-27T17:29:30.225531Z",
     "start_time": "2024-04-27T17:29:30.223678Z"
    }
   },
   "id": "926aa5773bc90ab6",
   "execution_count": 7
  },
  {
   "cell_type": "markdown",
   "source": [
    "## Range of Indexes"
   ],
   "metadata": {
    "collapsed": false
   },
   "id": "a11ddd17891a1a5"
  },
  {
   "cell_type": "code",
   "outputs": [
    {
     "name": "stdout",
     "output_type": "stream",
     "text": [
      "('cherry', 'orange', 'kiwi')\n"
     ]
    }
   ],
   "source": [
    "# You can specify a range of indexes by specifying where to start and where to end the range.\n",
    "# When specifying a range, the return value will be a new tuple with the specified items.\n",
    "thistuple = (\"apple\", \"banana\", \"cherry\", \"orange\", \"kiwi\", \"melon\", \"mango\")\n",
    "print(thistuple[2:5])"
   ],
   "metadata": {
    "collapsed": false,
    "ExecuteTime": {
     "end_time": "2024-04-27T17:29:30.228779Z",
     "start_time": "2024-04-27T17:29:30.226651Z"
    }
   },
   "id": "63e65b29f538730b",
   "execution_count": 8
  },
  {
   "cell_type": "markdown",
   "source": [
    "## Change Tuple Values"
   ],
   "metadata": {
    "collapsed": false
   },
   "id": "372b1084c147e7b7"
  },
  {
   "cell_type": "code",
   "outputs": [
    {
     "name": "stdout",
     "output_type": "stream",
     "text": [
      "('apple', 'kiwi', 'cherry')\n"
     ]
    }
   ],
   "source": [
    "# Once a tuple is created, you cannot change its values. Tuples are unchangeable, or immutable as it also is called.\n",
    "# But there is a workaround. You can convert the tuple into a list, change the list, and convert the list back into a tuple.\n",
    "x = (\"apple\", \"banana\", \"cherry\")\n",
    "y = list(x)\n",
    "y[1] = \"kiwi\"\n",
    "x = tuple(y)\n",
    "print(x)"
   ],
   "metadata": {
    "collapsed": false,
    "ExecuteTime": {
     "end_time": "2024-04-27T17:29:30.232317Z",
     "start_time": "2024-04-27T17:29:30.229826Z"
    }
   },
   "id": "8556e059e6048525",
   "execution_count": 9
  },
  {
   "cell_type": "markdown",
   "source": [
    "## Loop Through a Tuple"
   ],
   "metadata": {
    "collapsed": false
   },
   "id": "2371480a00adc6af"
  },
  {
   "cell_type": "code",
   "outputs": [
    {
     "name": "stdout",
     "output_type": "stream",
     "text": [
      "apple\n",
      "banana\n",
      "cherry\n"
     ]
    }
   ],
   "source": [
    "# loop through the tuple items by using a for loop.\n",
    "thistuple = (\"apple\", \"banana\", \"cherry\")\n",
    "for x in thistuple:\n",
    "  print(x)"
   ],
   "metadata": {
    "collapsed": false,
    "ExecuteTime": {
     "end_time": "2024-04-27T17:29:30.236925Z",
     "start_time": "2024-04-27T17:29:30.235058Z"
    }
   },
   "id": "f07214d38852c1f2",
   "execution_count": 10
  },
  {
   "cell_type": "code",
   "outputs": [
    {
     "name": "stdout",
     "output_type": "stream",
     "text": [
      "apple\n",
      "banana\n",
      "cherry\n"
     ]
    }
   ],
   "source": [
    "# Loop Through the Index Numbers\n",
    "# loop through the tuple items by referring to their index number.\n",
    "# Use the range() and len() functions to create a suitable iterable.\n",
    "thistuple = (\"apple\", \"banana\", \"cherry\")\n",
    "for i in range(len(thistuple)):\n",
    "  print(thistuple[i])"
   ],
   "metadata": {
    "collapsed": false,
    "ExecuteTime": {
     "end_time": "2024-04-27T17:29:30.266803Z",
     "start_time": "2024-04-27T17:29:30.263418Z"
    }
   },
   "id": "b6510168406e1298",
   "execution_count": 11
  },
  {
   "cell_type": "code",
   "outputs": [
    {
     "name": "stdout",
     "output_type": "stream",
     "text": [
      "apple\n",
      "banana\n",
      "cherry\n"
     ]
    }
   ],
   "source": [
    "# Using a While Loop\n",
    "# Loop through the list items by using a while loop.\n",
    "thistuple = (\"apple\", \"banana\", \"cherry\")\n",
    "i = 0\n",
    "while i < len(thistuple):\n",
    "  print(thistuple[i])\n",
    "  i = i + 1"
   ],
   "metadata": {
    "collapsed": false,
    "ExecuteTime": {
     "end_time": "2024-04-27T17:29:30.278162Z",
     "start_time": "2024-04-27T17:29:30.274974Z"
    }
   },
   "id": "4ef1e9fae84025df",
   "execution_count": 12
  },
  {
   "cell_type": "code",
   "outputs": [
    {
     "name": "stdout",
     "output_type": "stream",
     "text": [
      "apple\n",
      "banana\n",
      "cherry\n"
     ]
    },
    {
     "data": {
      "text/plain": "[None, None, None]"
     },
     "execution_count": 13,
     "metadata": {},
     "output_type": "execute_result"
    }
   ],
   "source": [
    "# Looping Using List Comprehension\n",
    "# List comprehension offers a shorter syntax when you want to loop through a list and perform some action with each item.\n",
    "# A list comprehension consists of an expression followed by for statement inside square brackets.\n",
    "thistuple = (\"apple\", \"banana\", \"cherry\")\n",
    "[print(x) for x in thistuple]"
   ],
   "metadata": {
    "collapsed": false,
    "ExecuteTime": {
     "end_time": "2024-04-27T17:29:30.284835Z",
     "start_time": "2024-04-27T17:29:30.279596Z"
    }
   },
   "id": "17685b26c5a8b03e",
   "execution_count": 13
  },
  {
   "cell_type": "markdown",
   "source": [
    "## Join Tuples"
   ],
   "metadata": {
    "collapsed": false
   },
   "id": "22e3a5188be1d7f"
  },
  {
   "cell_type": "code",
   "outputs": [
    {
     "name": "stdout",
     "output_type": "stream",
     "text": [
      "('a', 'b', 'c', 1, 2, 3)\n"
     ]
    }
   ],
   "source": [
    "# Join Two Tuples\n",
    "# To join two or more tuples you can use the + operator.\n",
    "tuple1 = (\"a\", \"b\" , \"c\")\n",
    "tuple2 = (1, 2, 3)\n",
    "tuple3 = tuple1 + tuple2\n",
    "print(tuple3)"
   ],
   "metadata": {
    "collapsed": false,
    "ExecuteTime": {
     "end_time": "2024-04-27T17:29:30.289207Z",
     "start_time": "2024-04-27T17:29:30.286740Z"
    }
   },
   "id": "63e6f09200cb2603",
   "execution_count": 14
  },
  {
   "cell_type": "code",
   "outputs": [
    {
     "name": "stdout",
     "output_type": "stream",
     "text": [
      "('apple', 'banana', 'cherry', 'apple', 'banana', 'cherry')\n"
     ]
    }
   ],
   "source": [
    "# Multiply Tuples\n",
    "# If you want to multiply the content of a tuple a given number of times, you can use the * operator.\n",
    "fruits = (\"apple\", \"banana\", \"cherry\")\n",
    "mytuple = fruits * 2\n",
    "print(mytuple)"
   ],
   "metadata": {
    "collapsed": false,
    "ExecuteTime": {
     "end_time": "2024-04-27T17:29:30.292009Z",
     "start_time": "2024-04-27T17:29:30.290018Z"
    }
   },
   "id": "17f36784e803b328",
   "execution_count": 15
  },
  {
   "cell_type": "markdown",
   "source": [
    "## Check if Item Exists"
   ],
   "metadata": {
    "collapsed": false
   },
   "id": "b8e16b82c35b8c80"
  },
  {
   "cell_type": "code",
   "outputs": [
    {
     "name": "stdout",
     "output_type": "stream",
     "text": [
      "Yes, 'apple' is in the fruits tuple\n"
     ]
    }
   ],
   "source": [
    "# To determine if a specified item is present in a tuple use the in keyword:\n",
    "thistuple = (\"apple\", \"banana\", \"cherry\")\n",
    "if \"apple\" in thistuple:\n",
    "  print(\"Yes, 'apple' is in the fruits tuple\")"
   ],
   "metadata": {
    "collapsed": false,
    "ExecuteTime": {
     "end_time": "2024-04-27T17:29:30.317479Z",
     "start_time": "2024-04-27T17:29:30.315164Z"
    }
   },
   "id": "22924278a0345884",
   "execution_count": 16
  },
  {
   "cell_type": "markdown",
   "source": [
    "## Tuple Length"
   ],
   "metadata": {
    "collapsed": false
   },
   "id": "d7989b4c16be9862"
  },
  {
   "cell_type": "code",
   "outputs": [
    {
     "name": "stdout",
     "output_type": "stream",
     "text": [
      "3\n"
     ]
    }
   ],
   "source": [
    "# Tuple Length\n",
    "# To determine how many items a tuple has, use the len() method:\n",
    "thistuple = (\"apple\", \"banana\", \"cherry\")\n",
    "print(len(thistuple))"
   ],
   "metadata": {
    "collapsed": false,
    "ExecuteTime": {
     "end_time": "2024-04-27T17:29:30.328991Z",
     "start_time": "2024-04-27T17:29:30.326804Z"
    }
   },
   "id": "adc8d383c3926387",
   "execution_count": 17
  },
  {
   "cell_type": "markdown",
   "source": [
    "## Add Items"
   ],
   "metadata": {
    "collapsed": false
   },
   "id": "e5d75dfc4ddc90bb"
  },
  {
   "cell_type": "code",
   "outputs": [],
   "source": [
    "# Once a tuple is created, you cannot add items to it. Tuples are unchangeable.\n",
    "\n",
    "# Create a new tuple as follows\n",
    "thistuple = (\"apple\", \"banana\", \"cherry\")\n",
    "# thistuple[3] = \"orange\" # This will raise an error\n",
    "# print(thistuple)"
   ],
   "metadata": {
    "collapsed": false,
    "ExecuteTime": {
     "end_time": "2024-04-27T17:29:30.339080Z",
     "start_time": "2024-04-27T17:29:30.336462Z"
    }
   },
   "id": "f6b39246c652a9f3",
   "execution_count": 18
  },
  {
   "cell_type": "markdown",
   "source": [
    "## Unpacking a Tuple"
   ],
   "metadata": {
    "collapsed": false
   },
   "id": "e815590c5a9ecdd1"
  },
  {
   "cell_type": "code",
   "outputs": [
    {
     "name": "stdout",
     "output_type": "stream",
     "text": [
      "apple\n",
      "banana\n",
      "cherry\n"
     ]
    }
   ],
   "source": [
    "# When we create a tuple, we normally assign values to it. This is called \"packing\" a tuple:\n",
    "fruits = (\"apple\", \"banana\", \"cherry\")\n",
    "# But, in Python, we are also allowed to extract the values back into variables. This is called \"unpacking\":\n",
    "(green, yellow, red) = fruits\n",
    "print(green)\n",
    "print(yellow)\n",
    "print(red)"
   ],
   "metadata": {
    "collapsed": false,
    "ExecuteTime": {
     "end_time": "2024-04-27T17:29:30.395452Z",
     "start_time": "2024-04-27T17:29:30.391417Z"
    }
   },
   "id": "19a7dcfb4f68dd32",
   "execution_count": 19
  },
  {
   "cell_type": "markdown",
   "source": [],
   "metadata": {
    "collapsed": false
   },
   "id": "14047ed8743ec004"
  }
 ],
 "metadata": {
  "kernelspec": {
   "display_name": "Python 3",
   "language": "python",
   "name": "python3"
  },
  "language_info": {
   "codemirror_mode": {
    "name": "ipython",
    "version": 2
   },
   "file_extension": ".py",
   "mimetype": "text/x-python",
   "name": "python",
   "nbconvert_exporter": "python",
   "pygments_lexer": "ipython2",
   "version": "2.7.6"
  }
 },
 "nbformat": 4,
 "nbformat_minor": 5
}
