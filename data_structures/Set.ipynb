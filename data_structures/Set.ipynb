{
 "cells": [
  {
   "cell_type": "markdown",
   "source": [
    "# Set in Python"
   ],
   "metadata": {
    "collapsed": false
   },
   "id": "7aa6408bb33aeb12"
  },
  {
   "cell_type": "markdown",
   "source": [
    "**Set is a collection of unique elements.\n",
    "Set is unordered and unindexed.\n",
    "Set is mutable.\n",
    "Set is represented by curly braces {}.\n",
    "Set is created by using set() function.\n",
    "Set does not allow duplicate elements.**"
   ],
   "metadata": {
    "collapsed": false
   },
   "id": "6bd338ada457237"
  },
  {
   "cell_type": "markdown",
   "source": [
    "## Set methods"
   ],
   "metadata": {
    "collapsed": false
   },
   "id": "d0a2fdf9bcf0e649"
  },
  {
   "cell_type": "markdown",
   "source": [
    "- **add()**\tAdds an element to the set\n",
    "- **clear()**\tRemoves all the elements from the set\n",
    "- **copy()**\tReturns a copy of the set\n",
    "- **difference()**\tReturns a set containing the difference between two or more sets\n",
    "- **difference_update()**\tRemoves the items in this set that are also included in another, specified set\n",
    "- **discard()**\tRemove the specified item\n",
    "- **intersection()**\tReturns a set, that is the intersection of two other sets\n",
    "- **intersection_update()**\tRemoves the items in this set that are not present in other, specified set(s)\n",
    "- **isdisjoint()**\tReturns whether two sets have a intersection or not\n",
    "- **issubset()**\tReturns whether another set contains this set or not\n",
    "- **issuperset()**\tReturns whether this set contains another set or not\n",
    "- **pop()**\tRemoves an element from the set\n",
    "- **remove()**\tRemoves the specified element\n",
    "- **symmetric_difference()**\tReturns a set with the symmetric differences of two sets\n",
    "- **symmetric_difference_update()**\tinserts the symmetric differences from this set and another\n",
    "- **union()**\tReturn a set containing the union of sets\n",
    "- **update()**\tUpdate the set with the union of this set and others"
   ],
   "metadata": {
    "collapsed": false
   },
   "id": "144a73822e7265b0"
  },
  {
   "cell_type": "markdown",
   "source": [
    "## Creating a set"
   ],
   "metadata": {
    "collapsed": false
   },
   "id": "78bfc1d44945d9ec"
  },
  {
   "cell_type": "code",
   "outputs": [
    {
     "name": "stdout",
     "output_type": "stream",
     "text": [
      "{1, 2, 3, 4, 5}\n",
      "{1, 2, 3}\n",
      "{1, 2, 3, 4, 5}\n"
     ]
    }
   ],
   "source": [
    "set1 = {1, 2, 3, 4, 5}\n",
    "print(set1)\n",
    "set2 = {1, 2, 3, 1, 2, 3}\n",
    "print(set2)\n",
    "set3 = {1, 4, 5, 2, 3}\n",
    "print(set3)"
   ],
   "metadata": {
    "collapsed": false,
    "ExecuteTime": {
     "end_time": "2024-04-24T21:04:33.002245Z",
     "start_time": "2024-04-24T21:04:32.996305Z"
    }
   },
   "id": "8a4e44b50483af2e",
   "execution_count": 1
  },
  {
   "cell_type": "markdown",
   "source": [
    "## Accessing elements of a set"
   ],
   "metadata": {
    "collapsed": false
   },
   "id": "6333299f7e6f03f8"
  },
  {
   "cell_type": "code",
   "outputs": [
    {
     "name": "stdout",
     "output_type": "stream",
     "text": [
      "1 2 3 4 5 "
     ]
    }
   ],
   "source": [
    "set1 = {1, 2, 3, 4, 5}\n",
    "for i in set1:\n",
    "    print(i, end = \" \")"
   ],
   "metadata": {
    "collapsed": false,
    "ExecuteTime": {
     "end_time": "2024-04-24T21:04:33.033494Z",
     "start_time": "2024-04-24T21:04:33.030642Z"
    }
   },
   "id": "793c674a62670fbc",
   "execution_count": 2
  },
  {
   "cell_type": "markdown",
   "source": [
    "## Adding elements to a set"
   ],
   "metadata": {
    "collapsed": false
   },
   "id": "3564b8e50ddaa77c"
  },
  {
   "cell_type": "code",
   "outputs": [
    {
     "name": "stdout",
     "output_type": "stream",
     "text": [
      "{1, 2, 3, 4, 5, 6}\n"
     ]
    }
   ],
   "source": [
    "set1 = {1, 2, 3, 4, 5}\n",
    "set1.add(6)\n",
    "print(set1)"
   ],
   "metadata": {
    "collapsed": false,
    "ExecuteTime": {
     "end_time": "2024-04-24T21:04:33.039012Z",
     "start_time": "2024-04-24T21:04:33.035935Z"
    }
   },
   "id": "923206fce124661b",
   "execution_count": 3
  },
  {
   "cell_type": "code",
   "outputs": [
    {
     "name": "stdout",
     "output_type": "stream",
     "text": [
      "{1, 2, 3, 4, 5, 6, 7, 8}\n"
     ]
    }
   ],
   "source": [
    "set1 = {1, 2, 3, 4, 5}\n",
    "set1.update([6, 7, 8])\n",
    "print(set1)"
   ],
   "metadata": {
    "collapsed": false,
    "ExecuteTime": {
     "end_time": "2024-04-24T21:04:33.042632Z",
     "start_time": "2024-04-24T21:04:33.039990Z"
    }
   },
   "id": "353c667a2330694c",
   "execution_count": 4
  },
  {
   "cell_type": "code",
   "outputs": [
    {
     "name": "stdout",
     "output_type": "stream",
     "text": [
      "{1, 2, 3, 4, 5, 6, 7, 8, 9, 10}\n"
     ]
    }
   ],
   "source": [
    "set1 = {1, 2, 3, 4, 5}\n",
    "set1.update([6, 7], {8, 9, 10})\n",
    "print(set1)"
   ],
   "metadata": {
    "collapsed": false,
    "ExecuteTime": {
     "end_time": "2024-04-24T21:04:33.048576Z",
     "start_time": "2024-04-24T21:04:33.045449Z"
    }
   },
   "id": "81536e0a50017b4b",
   "execution_count": 5
  },
  {
   "cell_type": "code",
   "outputs": [
    {
     "name": "stdout",
     "output_type": "stream",
     "text": [
      "{1, 2, 3, 4, 5, 6, 7, 8, 9, 10, 11, 12}\n"
     ]
    }
   ],
   "source": [
    "set1 = {1, 2, 3, 4, 5}\n",
    "set1.update([6, 7], {8, 9, 10}, [11, 12])\n",
    "print(set1)"
   ],
   "metadata": {
    "collapsed": false,
    "ExecuteTime": {
     "end_time": "2024-04-24T21:04:33.052700Z",
     "start_time": "2024-04-24T21:04:33.049560Z"
    }
   },
   "id": "a3a290ea3ec0a3d3",
   "execution_count": 6
  },
  {
   "cell_type": "markdown",
   "source": [
    "## Removing elements from a set"
   ],
   "metadata": {
    "collapsed": false
   },
   "id": "e322c6ebecd83d82"
  },
  {
   "cell_type": "code",
   "outputs": [
    {
     "name": "stdout",
     "output_type": "stream",
     "text": [
      "{1, 2, 4, 5}\n"
     ]
    }
   ],
   "source": [
    "set1 = {1, 2, 3, 4, 5}\n",
    "set1.remove(3)\n",
    "print(set1)"
   ],
   "metadata": {
    "collapsed": false,
    "ExecuteTime": {
     "end_time": "2024-04-24T21:04:33.055940Z",
     "start_time": "2024-04-24T21:04:33.053470Z"
    }
   },
   "id": "157d464e310b818c",
   "execution_count": 7
  },
  {
   "cell_type": "code",
   "outputs": [
    {
     "name": "stdout",
     "output_type": "stream",
     "text": [
      "{1, 2, 4, 5}\n"
     ]
    }
   ],
   "source": [
    "set1 = {1, 2, 3, 4, 5}\n",
    "set1.discard(3)\n",
    "print(set1)"
   ],
   "metadata": {
    "collapsed": false,
    "ExecuteTime": {
     "end_time": "2024-04-24T21:04:33.060732Z",
     "start_time": "2024-04-24T21:04:33.057721Z"
    }
   },
   "id": "90ab6923a5bcc49f",
   "execution_count": 8
  },
  {
   "cell_type": "code",
   "outputs": [
    {
     "name": "stdout",
     "output_type": "stream",
     "text": [
      "{2, 3, 4, 5}\n",
      "{3, 4, 5}\n"
     ]
    }
   ],
   "source": [
    "set1 = {1, 2, 3, 4, 5}\n",
    "set1.pop()\n",
    "print(set1)\n",
    "set1.pop()\n",
    "print(set1)"
   ],
   "metadata": {
    "collapsed": false,
    "ExecuteTime": {
     "end_time": "2024-04-24T21:04:33.064415Z",
     "start_time": "2024-04-24T21:04:33.061552Z"
    }
   },
   "id": "7cd550df0b4224b2",
   "execution_count": 9
  },
  {
   "cell_type": "code",
   "outputs": [
    {
     "name": "stdout",
     "output_type": "stream",
     "text": [
      "set()\n"
     ]
    }
   ],
   "source": [
    "set1 = {1, 2, 3, 4, 5}\n",
    "set1.clear()\n",
    "print(set1)"
   ],
   "metadata": {
    "collapsed": false,
    "ExecuteTime": {
     "end_time": "2024-04-24T21:04:33.067633Z",
     "start_time": "2024-04-24T21:04:33.065145Z"
    }
   },
   "id": "bd103e00f8dc4bad",
   "execution_count": 10
  },
  {
   "cell_type": "code",
   "outputs": [],
   "source": [
    "set1 = {1, 2, 3, 4, 5}\n",
    "del set1\n",
    "# print(set1) # NameError: name 'set1' is not defined"
   ],
   "metadata": {
    "collapsed": false,
    "ExecuteTime": {
     "end_time": "2024-04-24T21:04:33.070758Z",
     "start_time": "2024-04-24T21:04:33.068450Z"
    }
   },
   "id": "addc330e549cd6d",
   "execution_count": 11
  },
  {
   "cell_type": "markdown",
   "source": [
    "## Set operations   "
   ],
   "metadata": {
    "collapsed": false
   },
   "id": "9dd317d247d90d91"
  },
  {
   "cell_type": "code",
   "outputs": [
    {
     "name": "stdout",
     "output_type": "stream",
     "text": [
      "{1, 2, 3, 4, 5, 6, 7, 8}\n",
      "{1, 2, 3, 4, 5, 6, 7, 8}\n",
      "{4, 5}\n",
      "{4, 5}\n",
      "{1, 2, 3}\n",
      "{1, 2, 3}\n",
      "{1, 2, 3, 6, 7, 8}\n",
      "{1, 2, 3, 6, 7, 8}\n"
     ]
    }
   ],
   "source": [
    "set1 = {1, 2, 3, 4, 5}\n",
    "set2 = {4, 5, 6, 7, 8}\n",
    "print(set1.union(set2))\n",
    "print(set1 | set2)\n",
    "print(set1.intersection(set2))\n",
    "print(set1 & set2)\n",
    "print(set1.difference(set2))\n",
    "print(set1 - set2)\n",
    "print(set1.symmetric_difference(set2))\n",
    "print(set1 ^ set2)"
   ],
   "metadata": {
    "collapsed": false,
    "ExecuteTime": {
     "end_time": "2024-04-24T21:04:33.086497Z",
     "start_time": "2024-04-24T21:04:33.082799Z"
    }
   },
   "id": "907310059b575074",
   "execution_count": 12
  },
  {
   "cell_type": "code",
   "outputs": [
    {
     "name": "stdout",
     "output_type": "stream",
     "text": [
      "False\n",
      "False\n",
      "False\n"
     ]
    }
   ],
   "source": [
    "set1 = {1, 2, 3, 4, 5}\n",
    "set2 = {4, 5, 6, 7, 8}\n",
    "print(set1.isdisjoint(set2))\n",
    "print(set1.issubset(set2))\n",
    "print(set1.issuperset(set2))"
   ],
   "metadata": {
    "collapsed": false,
    "ExecuteTime": {
     "end_time": "2024-04-24T21:04:33.095805Z",
     "start_time": "2024-04-24T21:04:33.092797Z"
    }
   },
   "id": "27f5a224d0a6709e",
   "execution_count": 13
  },
  {
   "cell_type": "markdown",
   "source": [
    "## Set comprehension"
   ],
   "metadata": {
    "collapsed": false
   },
   "id": "5b3133f15ebbb5bb"
  },
  {
   "cell_type": "code",
   "outputs": [
    {
     "name": "stdout",
     "output_type": "stream",
     "text": [
      "{1, 2, 3, 4, 5}\n"
     ]
    }
   ],
   "source": [
    "set1 = {i for i in range(1, 6)}\n",
    "print(set1)"
   ],
   "metadata": {
    "collapsed": false,
    "ExecuteTime": {
     "end_time": "2024-04-24T21:04:33.103319Z",
     "start_time": "2024-04-24T21:04:33.100512Z"
    }
   },
   "id": "7227f58700764f6f",
   "execution_count": 14
  },
  {
   "cell_type": "code",
   "outputs": [
    {
     "name": "stdout",
     "output_type": "stream",
     "text": [
      "{2, 4, 6, 8, 10}\n"
     ]
    }
   ],
   "source": [
    "set1 = {i for i in range(1, 11) if i % 2 == 0}\n",
    "print(set1)"
   ],
   "metadata": {
    "collapsed": false,
    "ExecuteTime": {
     "end_time": "2024-04-24T21:04:33.107311Z",
     "start_time": "2024-04-24T21:04:33.104911Z"
    }
   },
   "id": "e1a216c4d1e24905",
   "execution_count": 15
  },
  {
   "cell_type": "markdown",
   "source": [
    "## Nested set comprehension"
   ],
   "metadata": {
    "collapsed": false
   },
   "id": "44314dd0a4f8af9"
  },
  {
   "cell_type": "code",
   "outputs": [
    {
     "name": "stdout",
     "output_type": "stream",
     "text": [
      "{1, 2, 3, 4, 5, 6, 7, 8, 9, 10}\n"
     ]
    }
   ],
   "source": [
    "set1 = {i for i in range(1, 6)}\n",
    "set2 = {i for i in range(6, 11)}\n",
    "set3 = {i for i in set1.union(set2)}\n",
    "print(set3)"
   ],
   "metadata": {
    "collapsed": false,
    "ExecuteTime": {
     "end_time": "2024-04-24T21:04:33.151708Z",
     "start_time": "2024-04-24T21:04:33.148808Z"
    }
   },
   "id": "d55fa475f4b5ec56",
   "execution_count": 16
  },
  {
   "cell_type": "code",
   "outputs": [
    {
     "name": "stdout",
     "output_type": "stream",
     "text": [
      "{2, 4, 6, 8, 10}\n"
     ]
    }
   ],
   "source": [
    "set1 = {i for i in range(1, 6)}\n",
    "set2 = {i for i in range(6, 11)}\n",
    "set3 = {i for i in set1.union(set2) if i % 2 == 0}\n",
    "print(set3)"
   ],
   "metadata": {
    "collapsed": false,
    "ExecuteTime": {
     "end_time": "2024-04-24T21:04:33.156424Z",
     "start_time": "2024-04-24T21:04:33.153742Z"
    }
   },
   "id": "65d9a4202ac8ea79",
   "execution_count": 17
  },
  {
   "cell_type": "code",
   "outputs": [
    {
     "name": "stdout",
     "output_type": "stream",
     "text": [
      "set()\n"
     ]
    }
   ],
   "source": [
    "set1 = {i for i in range(1, 6)}\n",
    "set2 = {i for i in range(6, 11)}\n",
    "set3 = {i for i in set1.union(set2) if i in set1 and i in set2}\n",
    "print(set3)"
   ],
   "metadata": {
    "collapsed": false,
    "ExecuteTime": {
     "end_time": "2024-04-24T21:04:33.162634Z",
     "start_time": "2024-04-24T21:04:33.160096Z"
    }
   },
   "id": "bb680a9febf3cffd",
   "execution_count": 18
  },
  {
   "cell_type": "code",
   "outputs": [
    {
     "name": "stdout",
     "output_type": "stream",
     "text": [
      "{1, 2, 3, 4, 5, 6, 7, 8, 9, 10}\n"
     ]
    }
   ],
   "source": [
    "set1 = {i for i in range(1, 6)}\n",
    "set2 = {i for i in range(6, 11)}\n",
    "set3 = {i for i in set1.union(set2) if i in set1 or i in set2}\n",
    "print(set3)"
   ],
   "metadata": {
    "collapsed": false,
    "ExecuteTime": {
     "end_time": "2024-04-24T21:04:33.166068Z",
     "start_time": "2024-04-24T21:04:33.163595Z"
    }
   },
   "id": "df2284c798092fff",
   "execution_count": 19
  }
 ],
 "metadata": {
  "kernelspec": {
   "display_name": "Python 3",
   "language": "python",
   "name": "python3"
  },
  "language_info": {
   "codemirror_mode": {
    "name": "ipython",
    "version": 2
   },
   "file_extension": ".py",
   "mimetype": "text/x-python",
   "name": "python",
   "nbconvert_exporter": "python",
   "pygments_lexer": "ipython2",
   "version": "2.7.6"
  }
 },
 "nbformat": 4,
 "nbformat_minor": 5
}
